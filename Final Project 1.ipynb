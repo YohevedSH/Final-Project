{
 "cells": [
  {
   "cell_type": "markdown",
   "id": "31d7d07e",
   "metadata": {},
   "source": [
    "# Final Project. Forecast churn of the telecom operator clients."
   ]
  },
  {
   "cell_type": "markdown",
   "id": "8bd6011c",
   "metadata": {},
   "source": [
    "The telecom operator Interconnect would like to be able to forecast their churn of clients. If it's discovered that a user is planning to leave, they will be offered promotional codes and special plan options. Interconnect's marketing team has collected some of their clientele's personal data, including information about their plans and contracts."
   ]
  },
  {
   "cell_type": "markdown",
   "id": "6d163db5",
   "metadata": {},
   "source": [
    "**Interconnect's services**\n",
    "\n",
    "Interconnect mainly provides two types of services:\n",
    "\n",
    " **1.** Landline communication. The telephone can be connected to several lines simultaneously.\n",
    " \n",
    " **2.** Internet. The network can be set up via a telephone line (DSL, digital subscriber line) or through a fiber optic cable.\n",
    "  \n",
    "Some other services the company provides include:\n",
    "  \n",
    "  - Internet security: antivirus software (DeviceProtection) and a malicious website blocker (OnlineSecurity)\n",
    "  - A dedicated technical support line (TechSupport)\n",
    "  - Cloud file storage and data backup (OnlineBackup)\n",
    "  - TV streaming (StreamingTV) and a movie directory (StreamingMovies)\n",
    "\n",
    "The clients can choose either a monthly payment or sign a 1- or 2-year contract. They can use various payment methods and receive an electronic invoice after a transaction."
   ]
  },
  {
   "cell_type": "markdown",
   "id": "30bdf114",
   "metadata": {},
   "source": [
    "# Data Description"
   ]
  },
  {
   "cell_type": "markdown",
   "id": "ff6e73e7",
   "metadata": {},
   "source": [
    "The data consists of files obtained from different sources:\n",
    "\n",
    "  - **contract.csv** — contract information\n",
    "  - **personal.csv** — the client's personal data\n",
    "  - **internet.csv** — information about Internet services\n",
    "  - **phone.csv** — information about telephone services\n",
    "  \n",
    "In each file, the column **customerID** contains a unique code assigned to each client.\n",
    "\n",
    "The contract information is valid as of **February 1, 2020**.\n",
    "\n",
    "Target feature: the **EndDate** column equals **No**.\n",
    "\n",
    "Primary metric: **AUC-ROC**.\n",
    "\n",
    "Additional metric: **Accuracy**."
   ]
  },
  {
   "cell_type": "markdown",
   "id": "ef059a3e",
   "metadata": {},
   "source": [
    "# Work Plan"
   ]
  },
  {
   "cell_type": "markdown",
   "id": "4dd1a24b",
   "metadata": {},
   "source": [
    "**1. Import libraries and load the data.**\n",
    "\n",
    "**2. Data preprocessing:**\n",
    " \n",
    "   - Rename columns if needed\n",
    "   - Merge all tables into one\n",
    "   - Convert data types if needed\n",
    "   - Checking missing values and work with them\n",
    "   - Checking data for duplicates\n",
    "   - Checking the data for anomalies and nonlogic values\n",
    "   \n",
    "**3. EDA:**\n",
    "\n",
    "   - Personal information\n",
    "   - Account information\n",
    "   - Additional services used by customers\n",
    "   - Correlations between features and target\n",
    "   \n",
    "**4. Feature ingineering:**\n",
    "\n",
    "   - Splitting dataset into training and test sets\n",
    "   - Encoding and scaling\n",
    "   \n",
    "**5. Model building:**\n",
    "\n",
    "   - Logistic Regression Classifier\n",
    "   - DecisionTreeClassifier\n",
    "   - Random Forest Classifier\n",
    "   - CatBoostClassifier\n",
    "   - Sanity check\n",
    "   \n",
    "\n",
    "**6. Comparing the results of models.**\n",
    "\n",
    "   - Compare results of all models and choose the best one\n",
    "   - Tune it and see if result will be better\n",
    "   - Check the model on  the test set\n",
    "\n",
    "**7. Importance of features for the best model.**\n",
    "\n",
    "**8. Conclusion.**\n",
    "\n"
   ]
  },
  {
   "cell_type": "markdown",
   "id": "669f8918",
   "metadata": {},
   "source": [
    "## Import libraries and load the data."
   ]
  },
  {
   "cell_type": "code",
   "execution_count": 163,
   "id": "f95d5f7e",
   "metadata": {},
   "outputs": [],
   "source": [
    "import pandas as pd\n",
    "import matplotlib.pyplot as plt\n",
    "import numpy as np\n",
    "np.warnings.filterwarnings('ignore', category=np.VisibleDeprecationWarning)\n",
    "\n",
    "import seaborn as sns\n",
    "\n",
    "from sklearn.preprocessing import StandardScaler\n",
    "\n",
    "from sklearn.preprocessing import OrdinalEncoder \n",
    "\n",
    "from sklearn.model_selection import train_test_split\n",
    "from sklearn.model_selection import cross_validate\n",
    "\n",
    "from sklearn.tree import DecisionTreeClassifier\n",
    "from sklearn.ensemble import RandomForestClassifier\n",
    "from sklearn.linear_model import LogisticRegression\n",
    "from sklearn.svm import LinearSVC\n",
    "from catboost import CatBoostClassifier\n",
    "from catboost import Pool, cv\n",
    "from lightgbm import LGBMClassifier\n",
    "from sklearn.calibration import CalibratedClassifierCV\n",
    "\n",
    "from sklearn.metrics import make_scorer\n",
    "from sklearn.model_selection import GridSearchCV, cross_val_score, RandomizedSearchCV\n",
    "from sklearn.metrics import classification_report\n",
    "\n",
    "\n",
    "from sklearn.metrics import accuracy_score\n",
    "from sklearn.metrics import recall_score\n",
    "from sklearn.metrics import precision_score\n",
    "from sklearn.metrics import f1_score\n",
    "from sklearn.metrics import confusion_matrix\n",
    "from sklearn.metrics import roc_curve\n",
    "from sklearn.metrics import roc_auc_score\n",
    "from sklearn.metrics import make_scorer"
   ]
  },
  {
   "cell_type": "markdown",
   "id": "a6d516b5",
   "metadata": {},
   "source": [
    "**Contract**"
   ]
  },
  {
   "cell_type": "code",
   "execution_count": 2,
   "id": "92884a32",
   "metadata": {},
   "outputs": [],
   "source": [
    "try:\n",
    "    contract = pd.read_csv(r'C:\\Users\\yoheved\\Downloads\\contract.csv', parse_dates=['BeginDate','EndDate'])\n",
    "except:\n",
    "    contract = pd.read_csv('/datasets/contract.csv')"
   ]
  },
  {
   "cell_type": "code",
   "execution_count": 3,
   "id": "b0ccb927",
   "metadata": {},
   "outputs": [
    {
     "data": {
      "text/html": [
       "<div>\n",
       "<style scoped>\n",
       "    .dataframe tbody tr th:only-of-type {\n",
       "        vertical-align: middle;\n",
       "    }\n",
       "\n",
       "    .dataframe tbody tr th {\n",
       "        vertical-align: top;\n",
       "    }\n",
       "\n",
       "    .dataframe thead th {\n",
       "        text-align: right;\n",
       "    }\n",
       "</style>\n",
       "<table border=\"1\" class=\"dataframe\">\n",
       "  <thead>\n",
       "    <tr style=\"text-align: right;\">\n",
       "      <th></th>\n",
       "      <th>customerID</th>\n",
       "      <th>BeginDate</th>\n",
       "      <th>EndDate</th>\n",
       "      <th>Type</th>\n",
       "      <th>PaperlessBilling</th>\n",
       "      <th>PaymentMethod</th>\n",
       "      <th>MonthlyCharges</th>\n",
       "      <th>TotalCharges</th>\n",
       "    </tr>\n",
       "  </thead>\n",
       "  <tbody>\n",
       "    <tr>\n",
       "      <th>5258</th>\n",
       "      <td>8634-CILSZ</td>\n",
       "      <td>2014-03-01</td>\n",
       "      <td>2019-12-01 00:00:00</td>\n",
       "      <td>One year</td>\n",
       "      <td>Yes</td>\n",
       "      <td>Bank transfer (automatic)</td>\n",
       "      <td>104.70</td>\n",
       "      <td>7220.35</td>\n",
       "    </tr>\n",
       "    <tr>\n",
       "      <th>6594</th>\n",
       "      <td>8317-BVKSO</td>\n",
       "      <td>2018-12-01</td>\n",
       "      <td>No</td>\n",
       "      <td>Month-to-month</td>\n",
       "      <td>Yes</td>\n",
       "      <td>Electronic check</td>\n",
       "      <td>20.05</td>\n",
       "      <td>299.3</td>\n",
       "    </tr>\n",
       "    <tr>\n",
       "      <th>741</th>\n",
       "      <td>6923-JHPMP</td>\n",
       "      <td>2019-12-01</td>\n",
       "      <td>No</td>\n",
       "      <td>Month-to-month</td>\n",
       "      <td>Yes</td>\n",
       "      <td>Electronic check</td>\n",
       "      <td>80.45</td>\n",
       "      <td>137.1</td>\n",
       "    </tr>\n",
       "    <tr>\n",
       "      <th>4230</th>\n",
       "      <td>5108-ADXWO</td>\n",
       "      <td>2019-02-01</td>\n",
       "      <td>2020-01-01 00:00:00</td>\n",
       "      <td>Month-to-month</td>\n",
       "      <td>Yes</td>\n",
       "      <td>Electronic check</td>\n",
       "      <td>73.50</td>\n",
       "      <td>791.75</td>\n",
       "    </tr>\n",
       "    <tr>\n",
       "      <th>4939</th>\n",
       "      <td>9975-SKRNR</td>\n",
       "      <td>2020-01-01</td>\n",
       "      <td>No</td>\n",
       "      <td>Month-to-month</td>\n",
       "      <td>No</td>\n",
       "      <td>Mailed check</td>\n",
       "      <td>18.90</td>\n",
       "      <td>18.9</td>\n",
       "    </tr>\n",
       "    <tr>\n",
       "      <th>4225</th>\n",
       "      <td>5345-BMKWB</td>\n",
       "      <td>2019-06-01</td>\n",
       "      <td>No</td>\n",
       "      <td>Month-to-month</td>\n",
       "      <td>No</td>\n",
       "      <td>Mailed check</td>\n",
       "      <td>20.25</td>\n",
       "      <td>158.35</td>\n",
       "    </tr>\n",
       "    <tr>\n",
       "      <th>3117</th>\n",
       "      <td>9844-FELAJ</td>\n",
       "      <td>2014-04-01</td>\n",
       "      <td>No</td>\n",
       "      <td>One year</td>\n",
       "      <td>Yes</td>\n",
       "      <td>Electronic check</td>\n",
       "      <td>107.90</td>\n",
       "      <td>7475.85</td>\n",
       "    </tr>\n",
       "    <tr>\n",
       "      <th>4791</th>\n",
       "      <td>7808-DVWEP</td>\n",
       "      <td>2019-11-01</td>\n",
       "      <td>No</td>\n",
       "      <td>Month-to-month</td>\n",
       "      <td>No</td>\n",
       "      <td>Bank transfer (automatic)</td>\n",
       "      <td>20.00</td>\n",
       "      <td>49.65</td>\n",
       "    </tr>\n",
       "    <tr>\n",
       "      <th>5216</th>\n",
       "      <td>3034-ZBEQN</td>\n",
       "      <td>2016-01-01</td>\n",
       "      <td>2020-01-01 00:00:00</td>\n",
       "      <td>One year</td>\n",
       "      <td>No</td>\n",
       "      <td>Mailed check</td>\n",
       "      <td>34.70</td>\n",
       "      <td>1604.5</td>\n",
       "    </tr>\n",
       "    <tr>\n",
       "      <th>905</th>\n",
       "      <td>0781-LKXBR</td>\n",
       "      <td>2019-02-01</td>\n",
       "      <td>2019-11-01 00:00:00</td>\n",
       "      <td>Month-to-month</td>\n",
       "      <td>Yes</td>\n",
       "      <td>Electronic check</td>\n",
       "      <td>100.50</td>\n",
       "      <td>918.6</td>\n",
       "    </tr>\n",
       "    <tr>\n",
       "      <th>6055</th>\n",
       "      <td>6599-SFQVE</td>\n",
       "      <td>2019-08-01</td>\n",
       "      <td>No</td>\n",
       "      <td>Month-to-month</td>\n",
       "      <td>Yes</td>\n",
       "      <td>Electronic check</td>\n",
       "      <td>55.00</td>\n",
       "      <td>340.4</td>\n",
       "    </tr>\n",
       "    <tr>\n",
       "      <th>779</th>\n",
       "      <td>0322-CHQRU</td>\n",
       "      <td>2019-09-01</td>\n",
       "      <td>2019-11-01 00:00:00</td>\n",
       "      <td>Month-to-month</td>\n",
       "      <td>No</td>\n",
       "      <td>Electronic check</td>\n",
       "      <td>45.35</td>\n",
       "      <td>89.5</td>\n",
       "    </tr>\n",
       "    <tr>\n",
       "      <th>3764</th>\n",
       "      <td>6674-KVJHG</td>\n",
       "      <td>2019-03-01</td>\n",
       "      <td>No</td>\n",
       "      <td>One year</td>\n",
       "      <td>No</td>\n",
       "      <td>Electronic check</td>\n",
       "      <td>25.20</td>\n",
       "      <td>245.15</td>\n",
       "    </tr>\n",
       "    <tr>\n",
       "      <th>2315</th>\n",
       "      <td>2577-GVSIL</td>\n",
       "      <td>2017-03-01</td>\n",
       "      <td>No</td>\n",
       "      <td>One year</td>\n",
       "      <td>Yes</td>\n",
       "      <td>Bank transfer (automatic)</td>\n",
       "      <td>73.45</td>\n",
       "      <td>2661.1</td>\n",
       "    </tr>\n",
       "    <tr>\n",
       "      <th>6737</th>\n",
       "      <td>9488-FYQAU</td>\n",
       "      <td>2014-11-01</td>\n",
       "      <td>No</td>\n",
       "      <td>Two year</td>\n",
       "      <td>Yes</td>\n",
       "      <td>Bank transfer (automatic)</td>\n",
       "      <td>109.25</td>\n",
       "      <td>6841.4</td>\n",
       "    </tr>\n",
       "  </tbody>\n",
       "</table>\n",
       "</div>"
      ],
      "text/plain": [
       "      customerID  BeginDate              EndDate            Type  \\\n",
       "5258  8634-CILSZ 2014-03-01  2019-12-01 00:00:00        One year   \n",
       "6594  8317-BVKSO 2018-12-01                   No  Month-to-month   \n",
       "741   6923-JHPMP 2019-12-01                   No  Month-to-month   \n",
       "4230  5108-ADXWO 2019-02-01  2020-01-01 00:00:00  Month-to-month   \n",
       "4939  9975-SKRNR 2020-01-01                   No  Month-to-month   \n",
       "4225  5345-BMKWB 2019-06-01                   No  Month-to-month   \n",
       "3117  9844-FELAJ 2014-04-01                   No        One year   \n",
       "4791  7808-DVWEP 2019-11-01                   No  Month-to-month   \n",
       "5216  3034-ZBEQN 2016-01-01  2020-01-01 00:00:00        One year   \n",
       "905   0781-LKXBR 2019-02-01  2019-11-01 00:00:00  Month-to-month   \n",
       "6055  6599-SFQVE 2019-08-01                   No  Month-to-month   \n",
       "779   0322-CHQRU 2019-09-01  2019-11-01 00:00:00  Month-to-month   \n",
       "3764  6674-KVJHG 2019-03-01                   No        One year   \n",
       "2315  2577-GVSIL 2017-03-01                   No        One year   \n",
       "6737  9488-FYQAU 2014-11-01                   No        Two year   \n",
       "\n",
       "     PaperlessBilling              PaymentMethod  MonthlyCharges TotalCharges  \n",
       "5258              Yes  Bank transfer (automatic)          104.70      7220.35  \n",
       "6594              Yes           Electronic check           20.05        299.3  \n",
       "741               Yes           Electronic check           80.45        137.1  \n",
       "4230              Yes           Electronic check           73.50       791.75  \n",
       "4939               No               Mailed check           18.90         18.9  \n",
       "4225               No               Mailed check           20.25       158.35  \n",
       "3117              Yes           Electronic check          107.90      7475.85  \n",
       "4791               No  Bank transfer (automatic)           20.00        49.65  \n",
       "5216               No               Mailed check           34.70       1604.5  \n",
       "905               Yes           Electronic check          100.50        918.6  \n",
       "6055              Yes           Electronic check           55.00        340.4  \n",
       "779                No           Electronic check           45.35         89.5  \n",
       "3764               No           Electronic check           25.20       245.15  \n",
       "2315              Yes  Bank transfer (automatic)           73.45       2661.1  \n",
       "6737              Yes  Bank transfer (automatic)          109.25       6841.4  "
      ]
     },
     "execution_count": 3,
     "metadata": {},
     "output_type": "execute_result"
    }
   ],
   "source": [
    "contract.sample(15)"
   ]
  },
  {
   "cell_type": "code",
   "execution_count": 4,
   "id": "8b95e5f3",
   "metadata": {},
   "outputs": [
    {
     "name": "stdout",
     "output_type": "stream",
     "text": [
      "<class 'pandas.core.frame.DataFrame'>\n",
      "RangeIndex: 7043 entries, 0 to 7042\n",
      "Data columns (total 8 columns):\n",
      " #   Column            Non-Null Count  Dtype         \n",
      "---  ------            --------------  -----         \n",
      " 0   customerID        7043 non-null   object        \n",
      " 1   BeginDate         7043 non-null   datetime64[ns]\n",
      " 2   EndDate           7043 non-null   object        \n",
      " 3   Type              7043 non-null   object        \n",
      " 4   PaperlessBilling  7043 non-null   object        \n",
      " 5   PaymentMethod     7043 non-null   object        \n",
      " 6   MonthlyCharges    7043 non-null   float64       \n",
      " 7   TotalCharges      7043 non-null   object        \n",
      "dtypes: datetime64[ns](1), float64(1), object(6)\n",
      "memory usage: 440.3+ KB\n"
     ]
    }
   ],
   "source": [
    "contract.info()"
   ]
  },
  {
   "cell_type": "markdown",
   "id": "49dd688e",
   "metadata": {},
   "source": [
    "**Internet**"
   ]
  },
  {
   "cell_type": "code",
   "execution_count": 5,
   "id": "18ac5fe6",
   "metadata": {},
   "outputs": [],
   "source": [
    "try:\n",
    "    internet = pd.read_csv(r'C:\\Users\\yoheved\\Downloads\\internet.csv')\n",
    "except:\n",
    "    internet = pd.read_csv('/datasets/internet.csv')"
   ]
  },
  {
   "cell_type": "code",
   "execution_count": 6,
   "id": "9d38bfac",
   "metadata": {},
   "outputs": [
    {
     "data": {
      "text/html": [
       "<div>\n",
       "<style scoped>\n",
       "    .dataframe tbody tr th:only-of-type {\n",
       "        vertical-align: middle;\n",
       "    }\n",
       "\n",
       "    .dataframe tbody tr th {\n",
       "        vertical-align: top;\n",
       "    }\n",
       "\n",
       "    .dataframe thead th {\n",
       "        text-align: right;\n",
       "    }\n",
       "</style>\n",
       "<table border=\"1\" class=\"dataframe\">\n",
       "  <thead>\n",
       "    <tr style=\"text-align: right;\">\n",
       "      <th></th>\n",
       "      <th>customerID</th>\n",
       "      <th>InternetService</th>\n",
       "      <th>OnlineSecurity</th>\n",
       "      <th>OnlineBackup</th>\n",
       "      <th>DeviceProtection</th>\n",
       "      <th>TechSupport</th>\n",
       "      <th>StreamingTV</th>\n",
       "      <th>StreamingMovies</th>\n",
       "    </tr>\n",
       "  </thead>\n",
       "  <tbody>\n",
       "    <tr>\n",
       "      <th>4194</th>\n",
       "      <td>5701-GUXDC</td>\n",
       "      <td>DSL</td>\n",
       "      <td>Yes</td>\n",
       "      <td>No</td>\n",
       "      <td>Yes</td>\n",
       "      <td>No</td>\n",
       "      <td>No</td>\n",
       "      <td>No</td>\n",
       "    </tr>\n",
       "    <tr>\n",
       "      <th>4647</th>\n",
       "      <td>7395-XWZOY</td>\n",
       "      <td>DSL</td>\n",
       "      <td>Yes</td>\n",
       "      <td>Yes</td>\n",
       "      <td>Yes</td>\n",
       "      <td>Yes</td>\n",
       "      <td>Yes</td>\n",
       "      <td>No</td>\n",
       "    </tr>\n",
       "    <tr>\n",
       "      <th>3647</th>\n",
       "      <td>7486-KSRVI</td>\n",
       "      <td>Fiber optic</td>\n",
       "      <td>No</td>\n",
       "      <td>No</td>\n",
       "      <td>No</td>\n",
       "      <td>Yes</td>\n",
       "      <td>Yes</td>\n",
       "      <td>Yes</td>\n",
       "    </tr>\n",
       "    <tr>\n",
       "      <th>3656</th>\n",
       "      <td>0345-XMMUG</td>\n",
       "      <td>Fiber optic</td>\n",
       "      <td>No</td>\n",
       "      <td>Yes</td>\n",
       "      <td>Yes</td>\n",
       "      <td>Yes</td>\n",
       "      <td>Yes</td>\n",
       "      <td>Yes</td>\n",
       "    </tr>\n",
       "    <tr>\n",
       "      <th>889</th>\n",
       "      <td>1271-UODNO</td>\n",
       "      <td>DSL</td>\n",
       "      <td>No</td>\n",
       "      <td>No</td>\n",
       "      <td>No</td>\n",
       "      <td>Yes</td>\n",
       "      <td>No</td>\n",
       "      <td>No</td>\n",
       "    </tr>\n",
       "  </tbody>\n",
       "</table>\n",
       "</div>"
      ],
      "text/plain": [
       "      customerID InternetService OnlineSecurity OnlineBackup DeviceProtection  \\\n",
       "4194  5701-GUXDC             DSL            Yes           No              Yes   \n",
       "4647  7395-XWZOY             DSL            Yes          Yes              Yes   \n",
       "3647  7486-KSRVI     Fiber optic             No           No               No   \n",
       "3656  0345-XMMUG     Fiber optic             No          Yes              Yes   \n",
       "889   1271-UODNO             DSL             No           No               No   \n",
       "\n",
       "     TechSupport StreamingTV StreamingMovies  \n",
       "4194          No          No              No  \n",
       "4647         Yes         Yes              No  \n",
       "3647         Yes         Yes             Yes  \n",
       "3656         Yes         Yes             Yes  \n",
       "889          Yes          No              No  "
      ]
     },
     "execution_count": 6,
     "metadata": {},
     "output_type": "execute_result"
    }
   ],
   "source": [
    "internet.sample(5)"
   ]
  },
  {
   "cell_type": "code",
   "execution_count": 7,
   "id": "732728dc",
   "metadata": {},
   "outputs": [
    {
     "name": "stdout",
     "output_type": "stream",
     "text": [
      "<class 'pandas.core.frame.DataFrame'>\n",
      "RangeIndex: 5517 entries, 0 to 5516\n",
      "Data columns (total 8 columns):\n",
      " #   Column            Non-Null Count  Dtype \n",
      "---  ------            --------------  ----- \n",
      " 0   customerID        5517 non-null   object\n",
      " 1   InternetService   5517 non-null   object\n",
      " 2   OnlineSecurity    5517 non-null   object\n",
      " 3   OnlineBackup      5517 non-null   object\n",
      " 4   DeviceProtection  5517 non-null   object\n",
      " 5   TechSupport       5517 non-null   object\n",
      " 6   StreamingTV       5517 non-null   object\n",
      " 7   StreamingMovies   5517 non-null   object\n",
      "dtypes: object(8)\n",
      "memory usage: 344.9+ KB\n"
     ]
    }
   ],
   "source": [
    "internet.info()"
   ]
  },
  {
   "cell_type": "markdown",
   "id": "a0ae7f2d",
   "metadata": {},
   "source": [
    "**Personal**"
   ]
  },
  {
   "cell_type": "code",
   "execution_count": 8,
   "id": "146a1f0e",
   "metadata": {},
   "outputs": [],
   "source": [
    "try:\n",
    "    personal = pd.read_csv(r'C:\\Users\\yoheved\\Downloads\\personal.csv')\n",
    "except:\n",
    "    personal = pd.read_csv('/datasets/personal.csv')"
   ]
  },
  {
   "cell_type": "code",
   "execution_count": 9,
   "id": "3d1a5cb4",
   "metadata": {},
   "outputs": [
    {
     "data": {
      "text/html": [
       "<div>\n",
       "<style scoped>\n",
       "    .dataframe tbody tr th:only-of-type {\n",
       "        vertical-align: middle;\n",
       "    }\n",
       "\n",
       "    .dataframe tbody tr th {\n",
       "        vertical-align: top;\n",
       "    }\n",
       "\n",
       "    .dataframe thead th {\n",
       "        text-align: right;\n",
       "    }\n",
       "</style>\n",
       "<table border=\"1\" class=\"dataframe\">\n",
       "  <thead>\n",
       "    <tr style=\"text-align: right;\">\n",
       "      <th></th>\n",
       "      <th>customerID</th>\n",
       "      <th>gender</th>\n",
       "      <th>SeniorCitizen</th>\n",
       "      <th>Partner</th>\n",
       "      <th>Dependents</th>\n",
       "    </tr>\n",
       "  </thead>\n",
       "  <tbody>\n",
       "    <tr>\n",
       "      <th>4387</th>\n",
       "      <td>5868-YTYKS</td>\n",
       "      <td>Male</td>\n",
       "      <td>0</td>\n",
       "      <td>No</td>\n",
       "      <td>Yes</td>\n",
       "    </tr>\n",
       "    <tr>\n",
       "      <th>3454</th>\n",
       "      <td>6773-LQTVT</td>\n",
       "      <td>Female</td>\n",
       "      <td>1</td>\n",
       "      <td>Yes</td>\n",
       "      <td>Yes</td>\n",
       "    </tr>\n",
       "    <tr>\n",
       "      <th>6557</th>\n",
       "      <td>8709-KRDVL</td>\n",
       "      <td>Female</td>\n",
       "      <td>0</td>\n",
       "      <td>No</td>\n",
       "      <td>No</td>\n",
       "    </tr>\n",
       "    <tr>\n",
       "      <th>3837</th>\n",
       "      <td>3932-CMDTD</td>\n",
       "      <td>Female</td>\n",
       "      <td>0</td>\n",
       "      <td>No</td>\n",
       "      <td>No</td>\n",
       "    </tr>\n",
       "    <tr>\n",
       "      <th>4421</th>\n",
       "      <td>4636-JGAAI</td>\n",
       "      <td>Male</td>\n",
       "      <td>0</td>\n",
       "      <td>Yes</td>\n",
       "      <td>No</td>\n",
       "    </tr>\n",
       "  </tbody>\n",
       "</table>\n",
       "</div>"
      ],
      "text/plain": [
       "      customerID  gender  SeniorCitizen Partner Dependents\n",
       "4387  5868-YTYKS    Male              0      No        Yes\n",
       "3454  6773-LQTVT  Female              1     Yes        Yes\n",
       "6557  8709-KRDVL  Female              0      No         No\n",
       "3837  3932-CMDTD  Female              0      No         No\n",
       "4421  4636-JGAAI    Male              0     Yes         No"
      ]
     },
     "execution_count": 9,
     "metadata": {},
     "output_type": "execute_result"
    }
   ],
   "source": [
    "personal.sample(5)"
   ]
  },
  {
   "cell_type": "code",
   "execution_count": 10,
   "id": "835abeb4",
   "metadata": {},
   "outputs": [
    {
     "name": "stdout",
     "output_type": "stream",
     "text": [
      "<class 'pandas.core.frame.DataFrame'>\n",
      "RangeIndex: 7043 entries, 0 to 7042\n",
      "Data columns (total 5 columns):\n",
      " #   Column         Non-Null Count  Dtype \n",
      "---  ------         --------------  ----- \n",
      " 0   customerID     7043 non-null   object\n",
      " 1   gender         7043 non-null   object\n",
      " 2   SeniorCitizen  7043 non-null   int64 \n",
      " 3   Partner        7043 non-null   object\n",
      " 4   Dependents     7043 non-null   object\n",
      "dtypes: int64(1), object(4)\n",
      "memory usage: 275.2+ KB\n"
     ]
    }
   ],
   "source": [
    "personal.info()"
   ]
  },
  {
   "cell_type": "markdown",
   "id": "ba7e5349",
   "metadata": {},
   "source": [
    "**Phone**"
   ]
  },
  {
   "cell_type": "code",
   "execution_count": 11,
   "id": "8dbae1bf",
   "metadata": {},
   "outputs": [],
   "source": [
    "try:\n",
    "    phone = pd.read_csv(r'C:\\Users\\yoheved\\Downloads\\phone.csv')\n",
    "except:\n",
    "    phone = pd.read_csv('/datasets/phone.csv')"
   ]
  },
  {
   "cell_type": "code",
   "execution_count": 12,
   "id": "e23f250f",
   "metadata": {},
   "outputs": [
    {
     "data": {
      "text/html": [
       "<div>\n",
       "<style scoped>\n",
       "    .dataframe tbody tr th:only-of-type {\n",
       "        vertical-align: middle;\n",
       "    }\n",
       "\n",
       "    .dataframe tbody tr th {\n",
       "        vertical-align: top;\n",
       "    }\n",
       "\n",
       "    .dataframe thead th {\n",
       "        text-align: right;\n",
       "    }\n",
       "</style>\n",
       "<table border=\"1\" class=\"dataframe\">\n",
       "  <thead>\n",
       "    <tr style=\"text-align: right;\">\n",
       "      <th></th>\n",
       "      <th>customerID</th>\n",
       "      <th>MultipleLines</th>\n",
       "    </tr>\n",
       "  </thead>\n",
       "  <tbody>\n",
       "    <tr>\n",
       "      <th>6069</th>\n",
       "      <td>4989-LIXVT</td>\n",
       "      <td>Yes</td>\n",
       "    </tr>\n",
       "    <tr>\n",
       "      <th>5787</th>\n",
       "      <td>6994-FGRHH</td>\n",
       "      <td>No</td>\n",
       "    </tr>\n",
       "    <tr>\n",
       "      <th>5605</th>\n",
       "      <td>8033-VCZGH</td>\n",
       "      <td>Yes</td>\n",
       "    </tr>\n",
       "    <tr>\n",
       "      <th>3908</th>\n",
       "      <td>6899-PPEEA</td>\n",
       "      <td>Yes</td>\n",
       "    </tr>\n",
       "    <tr>\n",
       "      <th>794</th>\n",
       "      <td>9342-VNIMQ</td>\n",
       "      <td>Yes</td>\n",
       "    </tr>\n",
       "  </tbody>\n",
       "</table>\n",
       "</div>"
      ],
      "text/plain": [
       "      customerID MultipleLines\n",
       "6069  4989-LIXVT           Yes\n",
       "5787  6994-FGRHH            No\n",
       "5605  8033-VCZGH           Yes\n",
       "3908  6899-PPEEA           Yes\n",
       "794   9342-VNIMQ           Yes"
      ]
     },
     "execution_count": 12,
     "metadata": {},
     "output_type": "execute_result"
    }
   ],
   "source": [
    "phone.sample(5)"
   ]
  },
  {
   "cell_type": "code",
   "execution_count": 13,
   "id": "747c281d",
   "metadata": {},
   "outputs": [
    {
     "name": "stdout",
     "output_type": "stream",
     "text": [
      "<class 'pandas.core.frame.DataFrame'>\n",
      "RangeIndex: 6361 entries, 0 to 6360\n",
      "Data columns (total 2 columns):\n",
      " #   Column         Non-Null Count  Dtype \n",
      "---  ------         --------------  ----- \n",
      " 0   customerID     6361 non-null   object\n",
      " 1   MultipleLines  6361 non-null   object\n",
      "dtypes: object(2)\n",
      "memory usage: 99.5+ KB\n"
     ]
    }
   ],
   "source": [
    "phone.info()"
   ]
  },
  {
   "cell_type": "markdown",
   "id": "3326d659",
   "metadata": {},
   "source": [
    "Datasets were loaded successfuly. On the first look all tables can be merged on the customerID column. After merging we will have missing values in phone and internet data since obviously not all users use those services. Also would be not bad to rename column gender to Gender so it won't be differ from others. Also need to investigate column 'EndDate' and see how much customers left and how I can encode the information about this. Also TotalCharges columns has a type object need to convert it to float."
   ]
  },
  {
   "cell_type": "markdown",
   "id": "473d04d1",
   "metadata": {},
   "source": [
    "## Data Preprocessing"
   ]
  },
  {
   "cell_type": "code",
   "execution_count": 14,
   "id": "f7cf6907",
   "metadata": {},
   "outputs": [],
   "source": [
    "personal.rename(columns={'gender': 'Gender'}, inplace=True)"
   ]
  },
  {
   "cell_type": "code",
   "execution_count": 15,
   "id": "824cbabd",
   "metadata": {},
   "outputs": [],
   "source": [
    "full = contract.merge(personal, on=['customerID'], how='outer') \\\n",
    "                .merge(internet, on=['customerID'], how='outer') \\\n",
    "                .merge(phone,    on=['customerID'], how='outer')"
   ]
  },
  {
   "cell_type": "code",
   "execution_count": 16,
   "id": "e66f6284",
   "metadata": {},
   "outputs": [
    {
     "data": {
      "text/html": [
       "<div>\n",
       "<style scoped>\n",
       "    .dataframe tbody tr th:only-of-type {\n",
       "        vertical-align: middle;\n",
       "    }\n",
       "\n",
       "    .dataframe tbody tr th {\n",
       "        vertical-align: top;\n",
       "    }\n",
       "\n",
       "    .dataframe thead th {\n",
       "        text-align: right;\n",
       "    }\n",
       "</style>\n",
       "<table border=\"1\" class=\"dataframe\">\n",
       "  <thead>\n",
       "    <tr style=\"text-align: right;\">\n",
       "      <th></th>\n",
       "      <th>customerID</th>\n",
       "      <th>BeginDate</th>\n",
       "      <th>EndDate</th>\n",
       "      <th>Type</th>\n",
       "      <th>PaperlessBilling</th>\n",
       "      <th>PaymentMethod</th>\n",
       "      <th>MonthlyCharges</th>\n",
       "      <th>TotalCharges</th>\n",
       "      <th>Gender</th>\n",
       "      <th>SeniorCitizen</th>\n",
       "      <th>Partner</th>\n",
       "      <th>Dependents</th>\n",
       "      <th>InternetService</th>\n",
       "      <th>OnlineSecurity</th>\n",
       "      <th>OnlineBackup</th>\n",
       "      <th>DeviceProtection</th>\n",
       "      <th>TechSupport</th>\n",
       "      <th>StreamingTV</th>\n",
       "      <th>StreamingMovies</th>\n",
       "      <th>MultipleLines</th>\n",
       "    </tr>\n",
       "  </thead>\n",
       "  <tbody>\n",
       "    <tr>\n",
       "      <th>0</th>\n",
       "      <td>7590-VHVEG</td>\n",
       "      <td>2020-01-01</td>\n",
       "      <td>No</td>\n",
       "      <td>Month-to-month</td>\n",
       "      <td>Yes</td>\n",
       "      <td>Electronic check</td>\n",
       "      <td>29.85</td>\n",
       "      <td>29.85</td>\n",
       "      <td>Female</td>\n",
       "      <td>0</td>\n",
       "      <td>Yes</td>\n",
       "      <td>No</td>\n",
       "      <td>DSL</td>\n",
       "      <td>No</td>\n",
       "      <td>Yes</td>\n",
       "      <td>No</td>\n",
       "      <td>No</td>\n",
       "      <td>No</td>\n",
       "      <td>No</td>\n",
       "      <td>NaN</td>\n",
       "    </tr>\n",
       "    <tr>\n",
       "      <th>1</th>\n",
       "      <td>5575-GNVDE</td>\n",
       "      <td>2017-04-01</td>\n",
       "      <td>No</td>\n",
       "      <td>One year</td>\n",
       "      <td>No</td>\n",
       "      <td>Mailed check</td>\n",
       "      <td>56.95</td>\n",
       "      <td>1889.5</td>\n",
       "      <td>Male</td>\n",
       "      <td>0</td>\n",
       "      <td>No</td>\n",
       "      <td>No</td>\n",
       "      <td>DSL</td>\n",
       "      <td>Yes</td>\n",
       "      <td>No</td>\n",
       "      <td>Yes</td>\n",
       "      <td>No</td>\n",
       "      <td>No</td>\n",
       "      <td>No</td>\n",
       "      <td>No</td>\n",
       "    </tr>\n",
       "    <tr>\n",
       "      <th>2</th>\n",
       "      <td>3668-QPYBK</td>\n",
       "      <td>2019-10-01</td>\n",
       "      <td>2019-12-01 00:00:00</td>\n",
       "      <td>Month-to-month</td>\n",
       "      <td>Yes</td>\n",
       "      <td>Mailed check</td>\n",
       "      <td>53.85</td>\n",
       "      <td>108.15</td>\n",
       "      <td>Male</td>\n",
       "      <td>0</td>\n",
       "      <td>No</td>\n",
       "      <td>No</td>\n",
       "      <td>DSL</td>\n",
       "      <td>Yes</td>\n",
       "      <td>Yes</td>\n",
       "      <td>No</td>\n",
       "      <td>No</td>\n",
       "      <td>No</td>\n",
       "      <td>No</td>\n",
       "      <td>No</td>\n",
       "    </tr>\n",
       "    <tr>\n",
       "      <th>3</th>\n",
       "      <td>7795-CFOCW</td>\n",
       "      <td>2016-05-01</td>\n",
       "      <td>No</td>\n",
       "      <td>One year</td>\n",
       "      <td>No</td>\n",
       "      <td>Bank transfer (automatic)</td>\n",
       "      <td>42.30</td>\n",
       "      <td>1840.75</td>\n",
       "      <td>Male</td>\n",
       "      <td>0</td>\n",
       "      <td>No</td>\n",
       "      <td>No</td>\n",
       "      <td>DSL</td>\n",
       "      <td>Yes</td>\n",
       "      <td>No</td>\n",
       "      <td>Yes</td>\n",
       "      <td>Yes</td>\n",
       "      <td>No</td>\n",
       "      <td>No</td>\n",
       "      <td>NaN</td>\n",
       "    </tr>\n",
       "    <tr>\n",
       "      <th>4</th>\n",
       "      <td>9237-HQITU</td>\n",
       "      <td>2019-09-01</td>\n",
       "      <td>2019-11-01 00:00:00</td>\n",
       "      <td>Month-to-month</td>\n",
       "      <td>Yes</td>\n",
       "      <td>Electronic check</td>\n",
       "      <td>70.70</td>\n",
       "      <td>151.65</td>\n",
       "      <td>Female</td>\n",
       "      <td>0</td>\n",
       "      <td>No</td>\n",
       "      <td>No</td>\n",
       "      <td>Fiber optic</td>\n",
       "      <td>No</td>\n",
       "      <td>No</td>\n",
       "      <td>No</td>\n",
       "      <td>No</td>\n",
       "      <td>No</td>\n",
       "      <td>No</td>\n",
       "      <td>No</td>\n",
       "    </tr>\n",
       "  </tbody>\n",
       "</table>\n",
       "</div>"
      ],
      "text/plain": [
       "   customerID  BeginDate              EndDate            Type  \\\n",
       "0  7590-VHVEG 2020-01-01                   No  Month-to-month   \n",
       "1  5575-GNVDE 2017-04-01                   No        One year   \n",
       "2  3668-QPYBK 2019-10-01  2019-12-01 00:00:00  Month-to-month   \n",
       "3  7795-CFOCW 2016-05-01                   No        One year   \n",
       "4  9237-HQITU 2019-09-01  2019-11-01 00:00:00  Month-to-month   \n",
       "\n",
       "  PaperlessBilling              PaymentMethod  MonthlyCharges TotalCharges  \\\n",
       "0              Yes           Electronic check           29.85        29.85   \n",
       "1               No               Mailed check           56.95       1889.5   \n",
       "2              Yes               Mailed check           53.85       108.15   \n",
       "3               No  Bank transfer (automatic)           42.30      1840.75   \n",
       "4              Yes           Electronic check           70.70       151.65   \n",
       "\n",
       "   Gender  SeniorCitizen Partner Dependents InternetService OnlineSecurity  \\\n",
       "0  Female              0     Yes         No             DSL             No   \n",
       "1    Male              0      No         No             DSL            Yes   \n",
       "2    Male              0      No         No             DSL            Yes   \n",
       "3    Male              0      No         No             DSL            Yes   \n",
       "4  Female              0      No         No     Fiber optic             No   \n",
       "\n",
       "  OnlineBackup DeviceProtection TechSupport StreamingTV StreamingMovies  \\\n",
       "0          Yes               No          No          No              No   \n",
       "1           No              Yes          No          No              No   \n",
       "2          Yes               No          No          No              No   \n",
       "3           No              Yes         Yes          No              No   \n",
       "4           No               No          No          No              No   \n",
       "\n",
       "  MultipleLines  \n",
       "0           NaN  \n",
       "1            No  \n",
       "2            No  \n",
       "3           NaN  \n",
       "4            No  "
      ]
     },
     "execution_count": 16,
     "metadata": {},
     "output_type": "execute_result"
    }
   ],
   "source": [
    "full.head()"
   ]
  },
  {
   "cell_type": "code",
   "execution_count": 17,
   "id": "f448b944",
   "metadata": {},
   "outputs": [
    {
     "name": "stdout",
     "output_type": "stream",
     "text": [
      "<class 'pandas.core.frame.DataFrame'>\n",
      "Int64Index: 7043 entries, 0 to 7042\n",
      "Data columns (total 20 columns):\n",
      " #   Column            Non-Null Count  Dtype         \n",
      "---  ------            --------------  -----         \n",
      " 0   customerID        7043 non-null   object        \n",
      " 1   BeginDate         7043 non-null   datetime64[ns]\n",
      " 2   EndDate           7043 non-null   object        \n",
      " 3   Type              7043 non-null   object        \n",
      " 4   PaperlessBilling  7043 non-null   object        \n",
      " 5   PaymentMethod     7043 non-null   object        \n",
      " 6   MonthlyCharges    7043 non-null   float64       \n",
      " 7   TotalCharges      7043 non-null   object        \n",
      " 8   Gender            7043 non-null   object        \n",
      " 9   SeniorCitizen     7043 non-null   int64         \n",
      " 10  Partner           7043 non-null   object        \n",
      " 11  Dependents        7043 non-null   object        \n",
      " 12  InternetService   5517 non-null   object        \n",
      " 13  OnlineSecurity    5517 non-null   object        \n",
      " 14  OnlineBackup      5517 non-null   object        \n",
      " 15  DeviceProtection  5517 non-null   object        \n",
      " 16  TechSupport       5517 non-null   object        \n",
      " 17  StreamingTV       5517 non-null   object        \n",
      " 18  StreamingMovies   5517 non-null   object        \n",
      " 19  MultipleLines     6361 non-null   object        \n",
      "dtypes: datetime64[ns](1), float64(1), int64(1), object(17)\n",
      "memory usage: 1.1+ MB\n"
     ]
    }
   ],
   "source": [
    "full.info()"
   ]
  },
  {
   "cell_type": "markdown",
   "id": "922a4c33",
   "metadata": {},
   "source": [
    "As I thought after merging the tables missing values appeared. It is because not all client use services like internet or phone. So will be logical to replace them with 'No'."
   ]
  },
  {
   "cell_type": "code",
   "execution_count": 18,
   "id": "5ea8efda",
   "metadata": {},
   "outputs": [],
   "source": [
    "full['InternetService'].fillna('No internet', inplace=True)\n",
    "full['MultipleLines'].fillna('No phone', inplace=True)"
   ]
  },
  {
   "cell_type": "code",
   "execution_count": 19,
   "id": "498786d5",
   "metadata": {},
   "outputs": [],
   "source": [
    "for column in full.columns[12:]:\n",
    "    if column == 'internet_service':\n",
    "        full[column].cat.add_categories('No', inplace=True)\n",
    "    \n",
    "    full[column].fillna('No', inplace=True)"
   ]
  },
  {
   "cell_type": "code",
   "execution_count": 20,
   "id": "db02fd31",
   "metadata": {},
   "outputs": [
    {
     "name": "stdout",
     "output_type": "stream",
     "text": [
      "<class 'pandas.core.frame.DataFrame'>\n",
      "Int64Index: 7043 entries, 0 to 7042\n",
      "Data columns (total 20 columns):\n",
      " #   Column            Non-Null Count  Dtype         \n",
      "---  ------            --------------  -----         \n",
      " 0   customerID        7043 non-null   object        \n",
      " 1   BeginDate         7043 non-null   datetime64[ns]\n",
      " 2   EndDate           7043 non-null   object        \n",
      " 3   Type              7043 non-null   object        \n",
      " 4   PaperlessBilling  7043 non-null   object        \n",
      " 5   PaymentMethod     7043 non-null   object        \n",
      " 6   MonthlyCharges    7043 non-null   float64       \n",
      " 7   TotalCharges      7043 non-null   object        \n",
      " 8   Gender            7043 non-null   object        \n",
      " 9   SeniorCitizen     7043 non-null   int64         \n",
      " 10  Partner           7043 non-null   object        \n",
      " 11  Dependents        7043 non-null   object        \n",
      " 12  InternetService   7043 non-null   object        \n",
      " 13  OnlineSecurity    7043 non-null   object        \n",
      " 14  OnlineBackup      7043 non-null   object        \n",
      " 15  DeviceProtection  7043 non-null   object        \n",
      " 16  TechSupport       7043 non-null   object        \n",
      " 17  StreamingTV       7043 non-null   object        \n",
      " 18  StreamingMovies   7043 non-null   object        \n",
      " 19  MultipleLines     7043 non-null   object        \n",
      "dtypes: datetime64[ns](1), float64(1), int64(1), object(17)\n",
      "memory usage: 1.1+ MB\n"
     ]
    }
   ],
   "source": [
    "full.info()"
   ]
  },
  {
   "cell_type": "markdown",
   "id": "17e810ce",
   "metadata": {},
   "source": [
    "As I mentioned before 'TotalCharges' columns should have a float type and not an object. Need to check why we have object type there."
   ]
  },
  {
   "cell_type": "code",
   "execution_count": 21,
   "id": "a0ba5198",
   "metadata": {},
   "outputs": [
    {
     "data": {
      "text/html": [
       "<div>\n",
       "<style scoped>\n",
       "    .dataframe tbody tr th:only-of-type {\n",
       "        vertical-align: middle;\n",
       "    }\n",
       "\n",
       "    .dataframe tbody tr th {\n",
       "        vertical-align: top;\n",
       "    }\n",
       "\n",
       "    .dataframe thead th {\n",
       "        text-align: right;\n",
       "    }\n",
       "</style>\n",
       "<table border=\"1\" class=\"dataframe\">\n",
       "  <thead>\n",
       "    <tr style=\"text-align: right;\">\n",
       "      <th></th>\n",
       "      <th>customerID</th>\n",
       "      <th>BeginDate</th>\n",
       "      <th>EndDate</th>\n",
       "      <th>Type</th>\n",
       "      <th>PaperlessBilling</th>\n",
       "      <th>PaymentMethod</th>\n",
       "      <th>MonthlyCharges</th>\n",
       "      <th>TotalCharges</th>\n",
       "      <th>Gender</th>\n",
       "      <th>SeniorCitizen</th>\n",
       "      <th>Partner</th>\n",
       "      <th>Dependents</th>\n",
       "      <th>InternetService</th>\n",
       "      <th>OnlineSecurity</th>\n",
       "      <th>OnlineBackup</th>\n",
       "      <th>DeviceProtection</th>\n",
       "      <th>TechSupport</th>\n",
       "      <th>StreamingTV</th>\n",
       "      <th>StreamingMovies</th>\n",
       "      <th>MultipleLines</th>\n",
       "    </tr>\n",
       "  </thead>\n",
       "  <tbody>\n",
       "    <tr>\n",
       "      <th>488</th>\n",
       "      <td>4472-LVYGI</td>\n",
       "      <td>2020-02-01</td>\n",
       "      <td>No</td>\n",
       "      <td>Two year</td>\n",
       "      <td>Yes</td>\n",
       "      <td>Bank transfer (automatic)</td>\n",
       "      <td>52.55</td>\n",
       "      <td></td>\n",
       "      <td>Female</td>\n",
       "      <td>0</td>\n",
       "      <td>Yes</td>\n",
       "      <td>Yes</td>\n",
       "      <td>DSL</td>\n",
       "      <td>Yes</td>\n",
       "      <td>No</td>\n",
       "      <td>Yes</td>\n",
       "      <td>Yes</td>\n",
       "      <td>Yes</td>\n",
       "      <td>No</td>\n",
       "      <td>No phone</td>\n",
       "    </tr>\n",
       "    <tr>\n",
       "      <th>753</th>\n",
       "      <td>3115-CZMZD</td>\n",
       "      <td>2020-02-01</td>\n",
       "      <td>No</td>\n",
       "      <td>Two year</td>\n",
       "      <td>No</td>\n",
       "      <td>Mailed check</td>\n",
       "      <td>20.25</td>\n",
       "      <td></td>\n",
       "      <td>Male</td>\n",
       "      <td>0</td>\n",
       "      <td>No</td>\n",
       "      <td>Yes</td>\n",
       "      <td>No internet</td>\n",
       "      <td>No</td>\n",
       "      <td>No</td>\n",
       "      <td>No</td>\n",
       "      <td>No</td>\n",
       "      <td>No</td>\n",
       "      <td>No</td>\n",
       "      <td>No</td>\n",
       "    </tr>\n",
       "    <tr>\n",
       "      <th>936</th>\n",
       "      <td>5709-LVOEQ</td>\n",
       "      <td>2020-02-01</td>\n",
       "      <td>No</td>\n",
       "      <td>Two year</td>\n",
       "      <td>No</td>\n",
       "      <td>Mailed check</td>\n",
       "      <td>80.85</td>\n",
       "      <td></td>\n",
       "      <td>Female</td>\n",
       "      <td>0</td>\n",
       "      <td>Yes</td>\n",
       "      <td>Yes</td>\n",
       "      <td>DSL</td>\n",
       "      <td>Yes</td>\n",
       "      <td>Yes</td>\n",
       "      <td>Yes</td>\n",
       "      <td>No</td>\n",
       "      <td>Yes</td>\n",
       "      <td>Yes</td>\n",
       "      <td>No</td>\n",
       "    </tr>\n",
       "    <tr>\n",
       "      <th>1082</th>\n",
       "      <td>4367-NUYAO</td>\n",
       "      <td>2020-02-01</td>\n",
       "      <td>No</td>\n",
       "      <td>Two year</td>\n",
       "      <td>No</td>\n",
       "      <td>Mailed check</td>\n",
       "      <td>25.75</td>\n",
       "      <td></td>\n",
       "      <td>Male</td>\n",
       "      <td>0</td>\n",
       "      <td>Yes</td>\n",
       "      <td>Yes</td>\n",
       "      <td>No internet</td>\n",
       "      <td>No</td>\n",
       "      <td>No</td>\n",
       "      <td>No</td>\n",
       "      <td>No</td>\n",
       "      <td>No</td>\n",
       "      <td>No</td>\n",
       "      <td>Yes</td>\n",
       "    </tr>\n",
       "    <tr>\n",
       "      <th>1340</th>\n",
       "      <td>1371-DWPAZ</td>\n",
       "      <td>2020-02-01</td>\n",
       "      <td>No</td>\n",
       "      <td>Two year</td>\n",
       "      <td>No</td>\n",
       "      <td>Credit card (automatic)</td>\n",
       "      <td>56.05</td>\n",
       "      <td></td>\n",
       "      <td>Female</td>\n",
       "      <td>0</td>\n",
       "      <td>Yes</td>\n",
       "      <td>Yes</td>\n",
       "      <td>DSL</td>\n",
       "      <td>Yes</td>\n",
       "      <td>Yes</td>\n",
       "      <td>Yes</td>\n",
       "      <td>Yes</td>\n",
       "      <td>Yes</td>\n",
       "      <td>No</td>\n",
       "      <td>No phone</td>\n",
       "    </tr>\n",
       "    <tr>\n",
       "      <th>3331</th>\n",
       "      <td>7644-OMVMY</td>\n",
       "      <td>2020-02-01</td>\n",
       "      <td>No</td>\n",
       "      <td>Two year</td>\n",
       "      <td>No</td>\n",
       "      <td>Mailed check</td>\n",
       "      <td>19.85</td>\n",
       "      <td></td>\n",
       "      <td>Male</td>\n",
       "      <td>0</td>\n",
       "      <td>Yes</td>\n",
       "      <td>Yes</td>\n",
       "      <td>No internet</td>\n",
       "      <td>No</td>\n",
       "      <td>No</td>\n",
       "      <td>No</td>\n",
       "      <td>No</td>\n",
       "      <td>No</td>\n",
       "      <td>No</td>\n",
       "      <td>No</td>\n",
       "    </tr>\n",
       "    <tr>\n",
       "      <th>3826</th>\n",
       "      <td>3213-VVOLG</td>\n",
       "      <td>2020-02-01</td>\n",
       "      <td>No</td>\n",
       "      <td>Two year</td>\n",
       "      <td>No</td>\n",
       "      <td>Mailed check</td>\n",
       "      <td>25.35</td>\n",
       "      <td></td>\n",
       "      <td>Male</td>\n",
       "      <td>0</td>\n",
       "      <td>Yes</td>\n",
       "      <td>Yes</td>\n",
       "      <td>No internet</td>\n",
       "      <td>No</td>\n",
       "      <td>No</td>\n",
       "      <td>No</td>\n",
       "      <td>No</td>\n",
       "      <td>No</td>\n",
       "      <td>No</td>\n",
       "      <td>Yes</td>\n",
       "    </tr>\n",
       "    <tr>\n",
       "      <th>4380</th>\n",
       "      <td>2520-SGTTA</td>\n",
       "      <td>2020-02-01</td>\n",
       "      <td>No</td>\n",
       "      <td>Two year</td>\n",
       "      <td>No</td>\n",
       "      <td>Mailed check</td>\n",
       "      <td>20.00</td>\n",
       "      <td></td>\n",
       "      <td>Female</td>\n",
       "      <td>0</td>\n",
       "      <td>Yes</td>\n",
       "      <td>Yes</td>\n",
       "      <td>No internet</td>\n",
       "      <td>No</td>\n",
       "      <td>No</td>\n",
       "      <td>No</td>\n",
       "      <td>No</td>\n",
       "      <td>No</td>\n",
       "      <td>No</td>\n",
       "      <td>No</td>\n",
       "    </tr>\n",
       "    <tr>\n",
       "      <th>5218</th>\n",
       "      <td>2923-ARZLG</td>\n",
       "      <td>2020-02-01</td>\n",
       "      <td>No</td>\n",
       "      <td>One year</td>\n",
       "      <td>Yes</td>\n",
       "      <td>Mailed check</td>\n",
       "      <td>19.70</td>\n",
       "      <td></td>\n",
       "      <td>Male</td>\n",
       "      <td>0</td>\n",
       "      <td>Yes</td>\n",
       "      <td>Yes</td>\n",
       "      <td>No internet</td>\n",
       "      <td>No</td>\n",
       "      <td>No</td>\n",
       "      <td>No</td>\n",
       "      <td>No</td>\n",
       "      <td>No</td>\n",
       "      <td>No</td>\n",
       "      <td>No</td>\n",
       "    </tr>\n",
       "    <tr>\n",
       "      <th>6670</th>\n",
       "      <td>4075-WKNIU</td>\n",
       "      <td>2020-02-01</td>\n",
       "      <td>No</td>\n",
       "      <td>Two year</td>\n",
       "      <td>No</td>\n",
       "      <td>Mailed check</td>\n",
       "      <td>73.35</td>\n",
       "      <td></td>\n",
       "      <td>Female</td>\n",
       "      <td>0</td>\n",
       "      <td>Yes</td>\n",
       "      <td>Yes</td>\n",
       "      <td>DSL</td>\n",
       "      <td>No</td>\n",
       "      <td>Yes</td>\n",
       "      <td>Yes</td>\n",
       "      <td>Yes</td>\n",
       "      <td>Yes</td>\n",
       "      <td>No</td>\n",
       "      <td>Yes</td>\n",
       "    </tr>\n",
       "    <tr>\n",
       "      <th>6754</th>\n",
       "      <td>2775-SEFEE</td>\n",
       "      <td>2020-02-01</td>\n",
       "      <td>No</td>\n",
       "      <td>Two year</td>\n",
       "      <td>Yes</td>\n",
       "      <td>Bank transfer (automatic)</td>\n",
       "      <td>61.90</td>\n",
       "      <td></td>\n",
       "      <td>Male</td>\n",
       "      <td>0</td>\n",
       "      <td>No</td>\n",
       "      <td>Yes</td>\n",
       "      <td>DSL</td>\n",
       "      <td>Yes</td>\n",
       "      <td>Yes</td>\n",
       "      <td>No</td>\n",
       "      <td>Yes</td>\n",
       "      <td>No</td>\n",
       "      <td>No</td>\n",
       "      <td>Yes</td>\n",
       "    </tr>\n",
       "  </tbody>\n",
       "</table>\n",
       "</div>"
      ],
      "text/plain": [
       "      customerID  BeginDate EndDate      Type PaperlessBilling  \\\n",
       "488   4472-LVYGI 2020-02-01      No  Two year              Yes   \n",
       "753   3115-CZMZD 2020-02-01      No  Two year               No   \n",
       "936   5709-LVOEQ 2020-02-01      No  Two year               No   \n",
       "1082  4367-NUYAO 2020-02-01      No  Two year               No   \n",
       "1340  1371-DWPAZ 2020-02-01      No  Two year               No   \n",
       "3331  7644-OMVMY 2020-02-01      No  Two year               No   \n",
       "3826  3213-VVOLG 2020-02-01      No  Two year               No   \n",
       "4380  2520-SGTTA 2020-02-01      No  Two year               No   \n",
       "5218  2923-ARZLG 2020-02-01      No  One year              Yes   \n",
       "6670  4075-WKNIU 2020-02-01      No  Two year               No   \n",
       "6754  2775-SEFEE 2020-02-01      No  Two year              Yes   \n",
       "\n",
       "                  PaymentMethod  MonthlyCharges TotalCharges  Gender  \\\n",
       "488   Bank transfer (automatic)           52.55               Female   \n",
       "753                Mailed check           20.25                 Male   \n",
       "936                Mailed check           80.85               Female   \n",
       "1082               Mailed check           25.75                 Male   \n",
       "1340    Credit card (automatic)           56.05               Female   \n",
       "3331               Mailed check           19.85                 Male   \n",
       "3826               Mailed check           25.35                 Male   \n",
       "4380               Mailed check           20.00               Female   \n",
       "5218               Mailed check           19.70                 Male   \n",
       "6670               Mailed check           73.35               Female   \n",
       "6754  Bank transfer (automatic)           61.90                 Male   \n",
       "\n",
       "      SeniorCitizen Partner Dependents InternetService OnlineSecurity  \\\n",
       "488               0     Yes        Yes             DSL            Yes   \n",
       "753               0      No        Yes     No internet             No   \n",
       "936               0     Yes        Yes             DSL            Yes   \n",
       "1082              0     Yes        Yes     No internet             No   \n",
       "1340              0     Yes        Yes             DSL            Yes   \n",
       "3331              0     Yes        Yes     No internet             No   \n",
       "3826              0     Yes        Yes     No internet             No   \n",
       "4380              0     Yes        Yes     No internet             No   \n",
       "5218              0     Yes        Yes     No internet             No   \n",
       "6670              0     Yes        Yes             DSL             No   \n",
       "6754              0      No        Yes             DSL            Yes   \n",
       "\n",
       "     OnlineBackup DeviceProtection TechSupport StreamingTV StreamingMovies  \\\n",
       "488            No              Yes         Yes         Yes              No   \n",
       "753            No               No          No          No              No   \n",
       "936           Yes              Yes          No         Yes             Yes   \n",
       "1082           No               No          No          No              No   \n",
       "1340          Yes              Yes         Yes         Yes              No   \n",
       "3331           No               No          No          No              No   \n",
       "3826           No               No          No          No              No   \n",
       "4380           No               No          No          No              No   \n",
       "5218           No               No          No          No              No   \n",
       "6670          Yes              Yes         Yes         Yes              No   \n",
       "6754          Yes               No         Yes          No              No   \n",
       "\n",
       "     MultipleLines  \n",
       "488       No phone  \n",
       "753             No  \n",
       "936             No  \n",
       "1082           Yes  \n",
       "1340      No phone  \n",
       "3331            No  \n",
       "3826           Yes  \n",
       "4380            No  \n",
       "5218            No  \n",
       "6670           Yes  \n",
       "6754           Yes  "
      ]
     },
     "execution_count": 21,
     "metadata": {},
     "output_type": "execute_result"
    }
   ],
   "source": [
    "full[pd.to_numeric(full.TotalCharges, errors='coerce').isnull()]"
   ]
  },
  {
   "cell_type": "markdown",
   "id": "a1bd53d3",
   "metadata": {},
   "source": [
    "Ok, as we see we have 11 customers who signed a contract only on 1 of February of 2020. As we have information only till this date so those new customers haven't paid yet, that's why we have a spaces in TotalCharges column. So in this case we can fill the TotalCharges column with 0 for those clients."
   ]
  },
  {
   "cell_type": "code",
   "execution_count": 22,
   "id": "d28ed83b",
   "metadata": {},
   "outputs": [],
   "source": [
    "full.TotalCharges = pd.to_numeric(full.TotalCharges, errors='coerce').fillna(0.0)"
   ]
  },
  {
   "cell_type": "code",
   "execution_count": 23,
   "id": "37db1bc9",
   "metadata": {},
   "outputs": [
    {
     "data": {
      "text/plain": [
       "0"
      ]
     },
     "execution_count": 23,
     "metadata": {},
     "output_type": "execute_result"
    }
   ],
   "source": [
    "full.TotalCharges.isnull().sum()"
   ]
  },
  {
   "cell_type": "code",
   "execution_count": 24,
   "id": "7e646d64",
   "metadata": {},
   "outputs": [],
   "source": [
    "full['TotalCharges'] = full['TotalCharges'].astype('float')"
   ]
  },
  {
   "cell_type": "code",
   "execution_count": 25,
   "id": "7d150781",
   "metadata": {},
   "outputs": [
    {
     "name": "stdout",
     "output_type": "stream",
     "text": [
      "<class 'pandas.core.frame.DataFrame'>\n",
      "Int64Index: 7043 entries, 0 to 7042\n",
      "Data columns (total 20 columns):\n",
      " #   Column            Non-Null Count  Dtype         \n",
      "---  ------            --------------  -----         \n",
      " 0   customerID        7043 non-null   object        \n",
      " 1   BeginDate         7043 non-null   datetime64[ns]\n",
      " 2   EndDate           7043 non-null   object        \n",
      " 3   Type              7043 non-null   object        \n",
      " 4   PaperlessBilling  7043 non-null   object        \n",
      " 5   PaymentMethod     7043 non-null   object        \n",
      " 6   MonthlyCharges    7043 non-null   float64       \n",
      " 7   TotalCharges      7043 non-null   float64       \n",
      " 8   Gender            7043 non-null   object        \n",
      " 9   SeniorCitizen     7043 non-null   int64         \n",
      " 10  Partner           7043 non-null   object        \n",
      " 11  Dependents        7043 non-null   object        \n",
      " 12  InternetService   7043 non-null   object        \n",
      " 13  OnlineSecurity    7043 non-null   object        \n",
      " 14  OnlineBackup      7043 non-null   object        \n",
      " 15  DeviceProtection  7043 non-null   object        \n",
      " 16  TechSupport       7043 non-null   object        \n",
      " 17  StreamingTV       7043 non-null   object        \n",
      " 18  StreamingMovies   7043 non-null   object        \n",
      " 19  MultipleLines     7043 non-null   object        \n",
      "dtypes: datetime64[ns](1), float64(2), int64(1), object(16)\n",
      "memory usage: 1.1+ MB\n"
     ]
    }
   ],
   "source": [
    "full.info()"
   ]
  },
  {
   "cell_type": "code",
   "execution_count": 26,
   "id": "62ad3824",
   "metadata": {},
   "outputs": [],
   "source": [
    "full['EndDate'] = pd.to_datetime(full['EndDate'], format='%Y-%m-%d', errors='coerce')"
   ]
  },
  {
   "cell_type": "code",
   "execution_count": 27,
   "id": "4d3428b7",
   "metadata": {},
   "outputs": [
    {
     "name": "stdout",
     "output_type": "stream",
     "text": [
      "<class 'pandas.core.frame.DataFrame'>\n",
      "Int64Index: 7043 entries, 0 to 7042\n",
      "Data columns (total 20 columns):\n",
      " #   Column            Non-Null Count  Dtype         \n",
      "---  ------            --------------  -----         \n",
      " 0   customerID        7043 non-null   object        \n",
      " 1   BeginDate         7043 non-null   datetime64[ns]\n",
      " 2   EndDate           1869 non-null   datetime64[ns]\n",
      " 3   Type              7043 non-null   object        \n",
      " 4   PaperlessBilling  7043 non-null   object        \n",
      " 5   PaymentMethod     7043 non-null   object        \n",
      " 6   MonthlyCharges    7043 non-null   float64       \n",
      " 7   TotalCharges      7043 non-null   float64       \n",
      " 8   Gender            7043 non-null   object        \n",
      " 9   SeniorCitizen     7043 non-null   int64         \n",
      " 10  Partner           7043 non-null   object        \n",
      " 11  Dependents        7043 non-null   object        \n",
      " 12  InternetService   7043 non-null   object        \n",
      " 13  OnlineSecurity    7043 non-null   object        \n",
      " 14  OnlineBackup      7043 non-null   object        \n",
      " 15  DeviceProtection  7043 non-null   object        \n",
      " 16  TechSupport       7043 non-null   object        \n",
      " 17  StreamingTV       7043 non-null   object        \n",
      " 18  StreamingMovies   7043 non-null   object        \n",
      " 19  MultipleLines     7043 non-null   object        \n",
      "dtypes: datetime64[ns](2), float64(2), int64(1), object(15)\n",
      "memory usage: 1.1+ MB\n"
     ]
    }
   ],
   "source": [
    "full.info()"
   ]
  },
  {
   "cell_type": "code",
   "execution_count": 28,
   "id": "37baf2ef",
   "metadata": {},
   "outputs": [
    {
     "data": {
      "text/plain": [
       "0"
      ]
     },
     "execution_count": 28,
     "metadata": {},
     "output_type": "execute_result"
    }
   ],
   "source": [
    "full.duplicated().sum()"
   ]
  },
  {
   "cell_type": "code",
   "execution_count": 29,
   "id": "774d17b4",
   "metadata": {},
   "outputs": [
    {
     "data": {
      "text/html": [
       "<div>\n",
       "<style scoped>\n",
       "    .dataframe tbody tr th:only-of-type {\n",
       "        vertical-align: middle;\n",
       "    }\n",
       "\n",
       "    .dataframe tbody tr th {\n",
       "        vertical-align: top;\n",
       "    }\n",
       "\n",
       "    .dataframe thead th {\n",
       "        text-align: right;\n",
       "    }\n",
       "</style>\n",
       "<table border=\"1\" class=\"dataframe\">\n",
       "  <thead>\n",
       "    <tr style=\"text-align: right;\">\n",
       "      <th></th>\n",
       "      <th>MonthlyCharges</th>\n",
       "      <th>TotalCharges</th>\n",
       "      <th>SeniorCitizen</th>\n",
       "    </tr>\n",
       "  </thead>\n",
       "  <tbody>\n",
       "    <tr>\n",
       "      <th>count</th>\n",
       "      <td>7043.000000</td>\n",
       "      <td>7043.000000</td>\n",
       "      <td>7043.000000</td>\n",
       "    </tr>\n",
       "    <tr>\n",
       "      <th>mean</th>\n",
       "      <td>64.761692</td>\n",
       "      <td>2279.734304</td>\n",
       "      <td>0.162147</td>\n",
       "    </tr>\n",
       "    <tr>\n",
       "      <th>std</th>\n",
       "      <td>30.090047</td>\n",
       "      <td>2266.794470</td>\n",
       "      <td>0.368612</td>\n",
       "    </tr>\n",
       "    <tr>\n",
       "      <th>min</th>\n",
       "      <td>18.250000</td>\n",
       "      <td>0.000000</td>\n",
       "      <td>0.000000</td>\n",
       "    </tr>\n",
       "    <tr>\n",
       "      <th>25%</th>\n",
       "      <td>35.500000</td>\n",
       "      <td>398.550000</td>\n",
       "      <td>0.000000</td>\n",
       "    </tr>\n",
       "    <tr>\n",
       "      <th>50%</th>\n",
       "      <td>70.350000</td>\n",
       "      <td>1394.550000</td>\n",
       "      <td>0.000000</td>\n",
       "    </tr>\n",
       "    <tr>\n",
       "      <th>75%</th>\n",
       "      <td>89.850000</td>\n",
       "      <td>3786.600000</td>\n",
       "      <td>0.000000</td>\n",
       "    </tr>\n",
       "    <tr>\n",
       "      <th>max</th>\n",
       "      <td>118.750000</td>\n",
       "      <td>8684.800000</td>\n",
       "      <td>1.000000</td>\n",
       "    </tr>\n",
       "  </tbody>\n",
       "</table>\n",
       "</div>"
      ],
      "text/plain": [
       "       MonthlyCharges  TotalCharges  SeniorCitizen\n",
       "count     7043.000000   7043.000000    7043.000000\n",
       "mean        64.761692   2279.734304       0.162147\n",
       "std         30.090047   2266.794470       0.368612\n",
       "min         18.250000      0.000000       0.000000\n",
       "25%         35.500000    398.550000       0.000000\n",
       "50%         70.350000   1394.550000       0.000000\n",
       "75%         89.850000   3786.600000       0.000000\n",
       "max        118.750000   8684.800000       1.000000"
      ]
     },
     "execution_count": 29,
     "metadata": {},
     "output_type": "execute_result"
    }
   ],
   "source": [
    "full.describe()"
   ]
  },
  {
   "cell_type": "code",
   "execution_count": 30,
   "id": "c38de3b1",
   "metadata": {},
   "outputs": [],
   "source": [
    "def replace_yes(df, col):\n",
    "    full[col] = pd.Series(np.where(full[col].values == 'Yes', 1, 0),\n",
    "          full.index)"
   ]
  },
  {
   "cell_type": "markdown",
   "id": "b895fa40",
   "metadata": {},
   "source": [
    "After investigating the data and merging tables a missing values appeared in phone and internet services. All of them were replaced by \"No internet\" and \"No phone\" since obviously not all users use those services. In the TotalCharges column were found 11 users who just signed up their contracts and haven't paid yet, spaces were replaced by 0. Columns 'gender' was renamed as 'Gender' so it won't differ from others. Column 'BeginDate' was converted to datetime format while downloading the dataset, but column 'EndDate' was object type, because there are dates only for client who exited. So this column was converted to the datetime format with NaT values for customers who still in company."
   ]
  },
  {
   "cell_type": "markdown",
   "id": "47d52d38",
   "metadata": {},
   "source": [
    "## EDA"
   ]
  },
  {
   "cell_type": "markdown",
   "id": "309314c6",
   "metadata": {},
   "source": [
    "First of all need to add 3 features:\n",
    " 1. Contract duration. For those who still in company need to count days till 1 of February 2020.\n",
    " 2. Customer's exited (target)\n",
    " 3. Which type of services are in use"
   ]
  },
  {
   "cell_type": "code",
   "execution_count": 31,
   "id": "1def9e43",
   "metadata": {},
   "outputs": [],
   "source": [
    "full['Duration'] = full['EndDate'] - full['BeginDate']\n",
    "full['Duration'] = full['Duration'].fillna(pd.to_datetime('2020-02-01') - full['BeginDate'])\n",
    "full['Duration'] = full['Duration'].dt.days"
   ]
  },
  {
   "cell_type": "code",
   "execution_count": 32,
   "id": "f668e9f6",
   "metadata": {},
   "outputs": [],
   "source": [
    "full['Churn'] = (~full['EndDate'].isna()).astype('int')"
   ]
  },
  {
   "cell_type": "code",
   "execution_count": 33,
   "id": "95d84b5a",
   "metadata": {},
   "outputs": [],
   "source": [
    "full['Services'] = 0 # person use All main services\n",
    "full.loc[full['MultipleLines'] == 'No phone', 'Services'] = 1 # person use only Internet service\n",
    "full.loc[full['InternetService'] == 'No internet', 'Services'] = 2 # person use only Phone service"
   ]
  },
  {
   "cell_type": "code",
   "execution_count": 34,
   "id": "3bc7ff52",
   "metadata": {},
   "outputs": [
    {
     "name": "stdout",
     "output_type": "stream",
     "text": [
      "<class 'pandas.core.frame.DataFrame'>\n",
      "Int64Index: 7043 entries, 0 to 7042\n",
      "Data columns (total 23 columns):\n",
      " #   Column            Non-Null Count  Dtype         \n",
      "---  ------            --------------  -----         \n",
      " 0   customerID        7043 non-null   object        \n",
      " 1   BeginDate         7043 non-null   datetime64[ns]\n",
      " 2   EndDate           1869 non-null   datetime64[ns]\n",
      " 3   Type              7043 non-null   object        \n",
      " 4   PaperlessBilling  7043 non-null   object        \n",
      " 5   PaymentMethod     7043 non-null   object        \n",
      " 6   MonthlyCharges    7043 non-null   float64       \n",
      " 7   TotalCharges      7043 non-null   float64       \n",
      " 8   Gender            7043 non-null   object        \n",
      " 9   SeniorCitizen     7043 non-null   int64         \n",
      " 10  Partner           7043 non-null   object        \n",
      " 11  Dependents        7043 non-null   object        \n",
      " 12  InternetService   7043 non-null   object        \n",
      " 13  OnlineSecurity    7043 non-null   object        \n",
      " 14  OnlineBackup      7043 non-null   object        \n",
      " 15  DeviceProtection  7043 non-null   object        \n",
      " 16  TechSupport       7043 non-null   object        \n",
      " 17  StreamingTV       7043 non-null   object        \n",
      " 18  StreamingMovies   7043 non-null   object        \n",
      " 19  MultipleLines     7043 non-null   object        \n",
      " 20  Duration          7043 non-null   int64         \n",
      " 21  Churn             7043 non-null   int32         \n",
      " 22  Services          7043 non-null   int64         \n",
      "dtypes: datetime64[ns](2), float64(2), int32(1), int64(3), object(15)\n",
      "memory usage: 1.3+ MB\n"
     ]
    }
   ],
   "source": [
    "full.info()"
   ]
  },
  {
   "cell_type": "markdown",
   "id": "efbb5ff3",
   "metadata": {},
   "source": [
    "**Distribution of clients and churn clients according on type of contract, billing and payment method**"
   ]
  },
  {
   "cell_type": "code",
   "execution_count": 35,
   "id": "5cbef6ac",
   "metadata": {},
   "outputs": [
    {
     "data": {
      "text/plain": [
       "Month-to-month    3875\n",
       "Two year          1695\n",
       "One year          1473\n",
       "Name: Type, dtype: int64"
      ]
     },
     "execution_count": 35,
     "metadata": {},
     "output_type": "execute_result"
    }
   ],
   "source": [
    "full['Type'].value_counts()"
   ]
  },
  {
   "cell_type": "code",
   "execution_count": 36,
   "id": "852f01d8",
   "metadata": {},
   "outputs": [
    {
     "data": {
      "image/png": "[encoded data removed]",
      "text/plain": [
       "<Figure size 1440x576 with 3 Axes>"
      ]
     },
     "metadata": {
      "needs_background": "light"
     },
     "output_type": "display_data"
    }
   ],
   "source": [
    "f, axs = plt.subplots(1, 3, figsize=(20, 8))\n",
    "sns.histplot(data=full, x=\"Type\", hue=\"Churn\", shrink=.8, alpha=.8, legend=False, ax=axs[0], multiple=\"stack\").set_title('Type of contract')\n",
    "sns.histplot(data=full, x=\"PaperlessBilling\", hue=\"Churn\", shrink=.8, alpha=.8, legend=False, ax=axs[1], multiple=\"stack\").set_title('Billing')\n",
    "sns.histplot(data=full, x=\"PaymentMethod\", hue=\"Churn\", shrink=.8, alpha=.8, legend=False, ax=axs[2], multiple=\"stack\").set_title('Payment method')\n",
    "plt.show()"
   ]
  },
  {
   "cell_type": "markdown",
   "id": "bf6f01a2",
   "metadata": {},
   "source": [
    "**Monthly and Total Charges**"
   ]
  },
  {
   "cell_type": "code",
   "execution_count": 37,
   "id": "ebfe6dd6",
   "metadata": {},
   "outputs": [
    {
     "data": {
      "image/png": "[encoded data removed]",
      "text/plain": [
       "<Figure size 1440x576 with 2 Axes>"
      ]
     },
     "metadata": {
      "needs_background": "light"
     },
     "output_type": "display_data"
    }
   ],
   "source": [
    "f, axs = plt.subplots(1, 2, figsize=(20, 8))\n",
    "sns.histplot(data=full, x=\"MonthlyCharges\", hue=\"Churn\", shrink=.8, alpha=.8, legend=False, ax=axs[0], multiple=\"stack\").set_title('Monthly Charges')\n",
    "sns.histplot(data=full, x=\"TotalCharges\", hue=\"Churn\", shrink=.8, alpha=.8, legend=False, ax=axs[1], multiple=\"stack\").set_title('Total Charges')\n",
    "plt.show()"
   ]
  },
  {
   "cell_type": "markdown",
   "id": "eeaa4e2b",
   "metadata": {},
   "source": [
    "**Gender, Senior citizen, partner and dependents**"
   ]
  },
  {
   "cell_type": "code",
   "execution_count": 38,
   "id": "dfd6dbbb",
   "metadata": {},
   "outputs": [],
   "source": [
    "def pie_plot(labels, title, col):\n",
    "    fig = plt.figure(figsize=(10, 6))\n",
    "    plt.title(title)\n",
    "    plt.axis('off')\n",
    "\n",
    "    ax0 = fig.add_axes([.25, .3, .5, .5], aspect=1)\n",
    "    fracs = full[col].value_counts().values\n",
    "    ax0.pie(fracs, labels=labels, radius = 1.2, startangle=90, autopct='%.2f')\n",
    "    ax0.set_xlabel('All customers')\n",
    "\n",
    "    ax1 = fig.add_axes([0, -.4, .5, .5], aspect=1)\n",
    "    fracs = full.query('Churn == 0')[col].value_counts().values\n",
    "    ax1.pie(fracs, labels=labels, radius = 1.2, startangle=90, autopct='%.2f')\n",
    "    ax1.set_xlabel('Loyal customers')\n",
    "\n",
    "\n",
    "    ax2 = fig.add_axes([.5, -.4, .5, .5], aspect=1)\n",
    "    fracs = full.query('Churn == 1')[col].value_counts().values\n",
    "    ax2.pie(fracs, labels=labels, radius = 1.2, startangle=90, autopct='%.2f')\n",
    "    ax2.set_xlabel('Churn customers')\n",
    "\n",
    "    plt.show()"
   ]
  },
  {
   "cell_type": "code",
   "execution_count": 39,
   "id": "830f0a1d",
   "metadata": {},
   "outputs": [
    {
     "data": {
      "image/png": "[encoded data removed]",
      "text/plain": [
       "<Figure size 720x432 with 4 Axes>"
      ]
     },
     "metadata": {
      "needs_background": "light"
     },
     "output_type": "display_data"
    }
   ],
   "source": [
    "labels = ['Male', 'Female']\n",
    "title = \"Distribution of clients according to gender\"\n",
    "pie_plot(labels, title, 'Gender')"
   ]
  },
  {
   "cell_type": "code",
   "execution_count": 40,
   "id": "c15e2694",
   "metadata": {},
   "outputs": [
    {
     "data": {
      "image/png": "[encoded data removed]",
      "text/plain": [
       "<Figure size 720x432 with 4 Axes>"
      ]
     },
     "metadata": {
      "needs_background": "light"
     },
     "output_type": "display_data"
    }
   ],
   "source": [
    "labels = ['No', 'Yes']\n",
    "title = \"Distribution of clients according to age\"\n",
    "pie_plot(labels, title, 'SeniorCitizen')"
   ]
  },
  {
   "cell_type": "code",
   "execution_count": 41,
   "id": "50c9ab6e",
   "metadata": {},
   "outputs": [
    {
     "data": {
      "image/png": "[encoded data removed]",
      "text/plain": [
       "<Figure size 720x432 with 4 Axes>"
      ]
     },
     "metadata": {
      "needs_background": "light"
     },
     "output_type": "display_data"
    }
   ],
   "source": [
    "labels = ['No', 'Yes']\n",
    "title = \"Distribution of clients according to marital status\"\n",
    "pie_plot(labels, title, 'Partner')"
   ]
  },
  {
   "cell_type": "code",
   "execution_count": 42,
   "id": "32453f54",
   "metadata": {},
   "outputs": [
    {
     "data": {
      "image/png": "[encoded data removed]",
      "text/plain": [
       "<Figure size 720x432 with 4 Axes>"
      ]
     },
     "metadata": {
      "needs_background": "light"
     },
     "output_type": "display_data"
    }
   ],
   "source": [
    "labels = ['No', 'Yes']\n",
    "title = \"Distribution of clients according to having dependents\"\n",
    "pie_plot(labels, title, 'Dependents')"
   ]
  },
  {
   "cell_type": "markdown",
   "id": "f409776a",
   "metadata": {},
   "source": [
    "**Services**"
   ]
  },
  {
   "cell_type": "code",
   "execution_count": 43,
   "id": "37aa962c",
   "metadata": {},
   "outputs": [
    {
     "data": {
      "image/png": "[encoded data removed]",
      "text/plain": [
       "<Figure size 720x432 with 4 Axes>"
      ]
     },
     "metadata": {
      "needs_background": "light"
     },
     "output_type": "display_data"
    }
   ],
   "source": [
    "labels = ['All Services', 'Internet only', 'Phone only']\n",
    "title = \"Services in use\"\n",
    "\n",
    "pie_plot(labels, title, 'Services')"
   ]
  },
  {
   "cell_type": "code",
   "execution_count": 44,
   "id": "f909f83a",
   "metadata": {},
   "outputs": [
    {
     "data": {
      "image/png": "[encoded data removed]",
      "text/plain": [
       "<Figure size 720x432 with 4 Axes>"
      ]
     },
     "metadata": {
      "needs_background": "light"
     },
     "output_type": "display_data"
    }
   ],
   "source": [
    "labels = full['MultipleLines'].value_counts().index.tolist()\n",
    "title = \"Phone services use\"\n",
    "\n",
    "pie_plot(labels, title, 'MultipleLines')"
   ]
  },
  {
   "cell_type": "code",
   "execution_count": 45,
   "id": "4bd972bc",
   "metadata": {},
   "outputs": [
    {
     "data": {
      "image/png": "[encoded data removed]",
      "text/plain": [
       "<Figure size 720x432 with 4 Axes>"
      ]
     },
     "metadata": {
      "needs_background": "light"
     },
     "output_type": "display_data"
    }
   ],
   "source": [
    "labels = full['InternetService'].value_counts().index.tolist()\n",
    "title = 'Internet services in use'\n",
    "\n",
    "pie_plot(labels, title, 'InternetService')"
   ]
  },
  {
   "cell_type": "markdown",
   "id": "d6ae9ff4",
   "metadata": {},
   "source": [
    "**Lifetime of customers**"
   ]
  },
  {
   "cell_type": "code",
   "execution_count": 46,
   "id": "0417955a",
   "metadata": {},
   "outputs": [
    {
     "data": {
      "image/png": "[encoded data removed]",
      "text/plain": [
       "<Figure size 1440x576 with 2 Axes>"
      ]
     },
     "metadata": {
      "needs_background": "light"
     },
     "output_type": "display_data"
    }
   ],
   "source": [
    "f, axs = plt.subplots(1, 2, figsize=(20, 8))\n",
    "sns.histplot(data=full, x=\"BeginDate\", shrink=.8, alpha=.8, legend=False, ax=axs[0], multiple=\"stack\").set_title('All customers for all time')\n",
    "sns.histplot(data=full, x=\"EndDate\", shrink=.8, alpha=.8, legend=False, ax=axs[1], multiple=\"stack\").set_title('Churn Customers for all time')\n",
    "plt.show()"
   ]
  },
  {
   "cell_type": "code",
   "execution_count": 47,
   "id": "82987ee9",
   "metadata": {},
   "outputs": [
    {
     "data": {
      "image/png": "[encoded data removed]",
      "text/plain": [
       "<Figure size 360x360 with 1 Axes>"
      ]
     },
     "metadata": {
      "needs_background": "light"
     },
     "output_type": "display_data"
    }
   ],
   "source": [
    "sns.displot(full, x=\"Duration\", bins=30, kde=True)\n",
    "plt.title(\"The lifecicle of clients\")\n",
    "plt.show()"
   ]
  },
  {
   "cell_type": "markdown",
   "id": "eacc8121",
   "metadata": {},
   "source": [
    "**Correlation between target and features**"
   ]
  },
  {
   "cell_type": "code",
   "execution_count": 48,
   "id": "0e5ad2c4",
   "metadata": {},
   "outputs": [],
   "source": [
    "numeric_features = ['MonthlyCharges', 'TotalCharges', 'Duration', 'Churn']"
   ]
  },
  {
   "cell_type": "code",
   "execution_count": 49,
   "id": "6fdfa989",
   "metadata": {},
   "outputs": [
    {
     "data": {
      "image/png": "[encoded data removed]",
      "text/plain": [
       "<Figure size 576x576 with 2 Axes>"
      ]
     },
     "metadata": {
      "needs_background": "light"
     },
     "output_type": "display_data"
    }
   ],
   "source": [
    "corr_matrix = full[numeric_features].corr()\n",
    "plt.figure(figsize=(8, 8))\n",
    "sns.heatmap(corr_matrix, robust=True, square=True, annot=True)\n",
    "\n",
    "plt.title('Correlation Matrix of numeric Features')\n",
    "plt.show()"
   ]
  },
  {
   "cell_type": "code",
   "execution_count": 50,
   "id": "5f5e20ee",
   "metadata": {},
   "outputs": [
    {
     "data": {
      "text/html": [
       "<div>\n",
       "<style scoped>\n",
       "    .dataframe tbody tr th:only-of-type {\n",
       "        vertical-align: middle;\n",
       "    }\n",
       "\n",
       "    .dataframe tbody tr th {\n",
       "        vertical-align: top;\n",
       "    }\n",
       "\n",
       "    .dataframe thead th {\n",
       "        text-align: right;\n",
       "    }\n",
       "</style>\n",
       "<table border=\"1\" class=\"dataframe\">\n",
       "  <thead>\n",
       "    <tr style=\"text-align: right;\">\n",
       "      <th></th>\n",
       "      <th>Churn</th>\n",
       "      <th>MonthlyCharges</th>\n",
       "      <th>TotalCharges</th>\n",
       "      <th>Duration</th>\n",
       "    </tr>\n",
       "  </thead>\n",
       "  <tbody>\n",
       "    <tr>\n",
       "      <th>Churn</th>\n",
       "      <td>1.000000</td>\n",
       "      <td>0.193356</td>\n",
       "      <td>-0.198324</td>\n",
       "      <td>-0.352673</td>\n",
       "    </tr>\n",
       "    <tr>\n",
       "      <th>MonthlyCharges</th>\n",
       "      <td>0.193356</td>\n",
       "      <td>1.000000</td>\n",
       "      <td>0.651174</td>\n",
       "      <td>0.247754</td>\n",
       "    </tr>\n",
       "    <tr>\n",
       "      <th>TotalCharges</th>\n",
       "      <td>-0.198324</td>\n",
       "      <td>0.651174</td>\n",
       "      <td>1.000000</td>\n",
       "      <td>0.826109</td>\n",
       "    </tr>\n",
       "    <tr>\n",
       "      <th>Duration</th>\n",
       "      <td>-0.352673</td>\n",
       "      <td>0.247754</td>\n",
       "      <td>0.826109</td>\n",
       "      <td>1.000000</td>\n",
       "    </tr>\n",
       "  </tbody>\n",
       "</table>\n",
       "</div>"
      ],
      "text/plain": [
       "                   Churn  MonthlyCharges  TotalCharges  Duration\n",
       "Churn           1.000000        0.193356     -0.198324 -0.352673\n",
       "MonthlyCharges  0.193356        1.000000      0.651174  0.247754\n",
       "TotalCharges   -0.198324        0.651174      1.000000  0.826109\n",
       "Duration       -0.352673        0.247754      0.826109  1.000000"
      ]
     },
     "execution_count": 50,
     "metadata": {},
     "output_type": "execute_result"
    }
   ],
   "source": [
    "full[['Churn', 'MonthlyCharges', 'TotalCharges', 'Duration']].corr()"
   ]
  },
  {
   "cell_type": "markdown",
   "id": "db3e956c",
   "metadata": {},
   "source": [
    "### EDA conclusion"
   ]
  },
  {
   "cell_type": "markdown",
   "id": "de581f62",
   "metadata": {},
   "source": [
    "**After EDA we can make such conclusions:**\n",
    "\n",
    " **1.** According to contract, billing and payment method data the category of churn customers mostly use Month-to-Month plan, paperless billings and electronic check payment method.\n",
    " \n",
    " **2.** Comparing the terminated and non-terminated contracts, we can see that in the terminated contracts the average monthly payment was higher, while the payment for the entire time was lower.\n",
    " \n",
    " **3.** There is no big difference between loyal and churn customers according to gender. \n",
    " \n",
    " **4.** The number of people of retirement age is significantly less than the younger generation, but the outflow of older people is almost 2 times more than for young people.\n",
    " \n",
    " **5.** People who do not have a partner are more likely to terminate the contract.\n",
    " \n",
    " **6.** People without dependents are also prone to leaving.\n",
    " \n",
    " **7.** On the charts we see that among loyal customers there is a significant proportion of those who use only one service, primarily the Internet, among the departed customers the vast majority used all services. Considering individual services, we can say that users of several lines are less satisfied compared to one, and DSL compared to fiber.\n",
    " \n",
    "**8.** On the charts, we see that contracts were actively concluded in 2014, then there was a decline with a gradual increase by 2020. But there are only 4 dates of termination of contracts, and all of them are only in 2019 and 2020. In this case, the reason may be that the data is artificial, but on real data it would be necessary first of all to check what happened on these dates. When considering the schedules of the duration of contracts, we can see that most of the contracts are terminated a short time after the conclusion, and old customers leave less often.\n",
    "\n",
    "**9.** The strongest correlation with outflow is the number of days since the signing up the contract - it correlates negatively - the more days, the less likely it is to leave.The number of days and total costs are also strongly correlated with each other, which is quite logical, and the monthly payment with total costs.The remaining signs do not have a strong correlation with the outflow of customers."
   ]
  },
  {
   "cell_type": "markdown",
   "id": "1ad135ed",
   "metadata": {},
   "source": [
    "## Feature engineering"
   ]
  },
  {
   "cell_type": "code",
   "execution_count": 51,
   "id": "937869f2",
   "metadata": {},
   "outputs": [
    {
     "data": {
      "image/png": "[encoded data removed]",
      "text/plain": [
       "<Figure size 864x432 with 1 Axes>"
      ]
     },
     "metadata": {
      "needs_background": "light"
     },
     "output_type": "display_data"
    }
   ],
   "source": [
    "full.Churn.hist(figsize = (12,6))\n",
    "plt.title(\"Exited\")\n",
    "plt.show()"
   ]
  },
  {
   "cell_type": "markdown",
   "id": "b184c3de",
   "metadata": {},
   "source": [
    "Here we see that our target is unbalanced. Need to keep it in mind when we will build models."
   ]
  },
  {
   "cell_type": "code",
   "execution_count": 52,
   "id": "e84369bc",
   "metadata": {},
   "outputs": [],
   "source": [
    "data_ml = full.copy()"
   ]
  },
  {
   "cell_type": "code",
   "execution_count": 53,
   "id": "3b43e2f7",
   "metadata": {},
   "outputs": [],
   "source": [
    "data_ml = data_ml.drop(['customerID', 'BeginDate', 'EndDate'], axis = 1)"
   ]
  },
  {
   "cell_type": "code",
   "execution_count": 54,
   "id": "3a149266",
   "metadata": {},
   "outputs": [
    {
     "data": {
      "text/html": [
       "<div>\n",
       "<style scoped>\n",
       "    .dataframe tbody tr th:only-of-type {\n",
       "        vertical-align: middle;\n",
       "    }\n",
       "\n",
       "    .dataframe tbody tr th {\n",
       "        vertical-align: top;\n",
       "    }\n",
       "\n",
       "    .dataframe thead th {\n",
       "        text-align: right;\n",
       "    }\n",
       "</style>\n",
       "<table border=\"1\" class=\"dataframe\">\n",
       "  <thead>\n",
       "    <tr style=\"text-align: right;\">\n",
       "      <th></th>\n",
       "      <th>Type</th>\n",
       "      <th>PaperlessBilling</th>\n",
       "      <th>PaymentMethod</th>\n",
       "      <th>MonthlyCharges</th>\n",
       "      <th>TotalCharges</th>\n",
       "      <th>Gender</th>\n",
       "      <th>SeniorCitizen</th>\n",
       "      <th>Partner</th>\n",
       "      <th>Dependents</th>\n",
       "      <th>InternetService</th>\n",
       "      <th>OnlineSecurity</th>\n",
       "      <th>OnlineBackup</th>\n",
       "      <th>DeviceProtection</th>\n",
       "      <th>TechSupport</th>\n",
       "      <th>StreamingTV</th>\n",
       "      <th>StreamingMovies</th>\n",
       "      <th>MultipleLines</th>\n",
       "      <th>Duration</th>\n",
       "      <th>Churn</th>\n",
       "      <th>Services</th>\n",
       "    </tr>\n",
       "  </thead>\n",
       "  <tbody>\n",
       "    <tr>\n",
       "      <th>0</th>\n",
       "      <td>0</td>\n",
       "      <td>1</td>\n",
       "      <td>2</td>\n",
       "      <td>29.85</td>\n",
       "      <td>29.85</td>\n",
       "      <td>0</td>\n",
       "      <td>0</td>\n",
       "      <td>1</td>\n",
       "      <td>0</td>\n",
       "      <td>0</td>\n",
       "      <td>0</td>\n",
       "      <td>1</td>\n",
       "      <td>0</td>\n",
       "      <td>0</td>\n",
       "      <td>0</td>\n",
       "      <td>0</td>\n",
       "      <td>1</td>\n",
       "      <td>31</td>\n",
       "      <td>0</td>\n",
       "      <td>1</td>\n",
       "    </tr>\n",
       "    <tr>\n",
       "      <th>1</th>\n",
       "      <td>1</td>\n",
       "      <td>0</td>\n",
       "      <td>3</td>\n",
       "      <td>56.95</td>\n",
       "      <td>1889.50</td>\n",
       "      <td>1</td>\n",
       "      <td>0</td>\n",
       "      <td>0</td>\n",
       "      <td>0</td>\n",
       "      <td>0</td>\n",
       "      <td>1</td>\n",
       "      <td>0</td>\n",
       "      <td>1</td>\n",
       "      <td>0</td>\n",
       "      <td>0</td>\n",
       "      <td>0</td>\n",
       "      <td>0</td>\n",
       "      <td>1036</td>\n",
       "      <td>0</td>\n",
       "      <td>0</td>\n",
       "    </tr>\n",
       "    <tr>\n",
       "      <th>2</th>\n",
       "      <td>0</td>\n",
       "      <td>1</td>\n",
       "      <td>3</td>\n",
       "      <td>53.85</td>\n",
       "      <td>108.15</td>\n",
       "      <td>1</td>\n",
       "      <td>0</td>\n",
       "      <td>0</td>\n",
       "      <td>0</td>\n",
       "      <td>0</td>\n",
       "      <td>1</td>\n",
       "      <td>1</td>\n",
       "      <td>0</td>\n",
       "      <td>0</td>\n",
       "      <td>0</td>\n",
       "      <td>0</td>\n",
       "      <td>0</td>\n",
       "      <td>61</td>\n",
       "      <td>1</td>\n",
       "      <td>0</td>\n",
       "    </tr>\n",
       "    <tr>\n",
       "      <th>3</th>\n",
       "      <td>1</td>\n",
       "      <td>0</td>\n",
       "      <td>0</td>\n",
       "      <td>42.30</td>\n",
       "      <td>1840.75</td>\n",
       "      <td>1</td>\n",
       "      <td>0</td>\n",
       "      <td>0</td>\n",
       "      <td>0</td>\n",
       "      <td>0</td>\n",
       "      <td>1</td>\n",
       "      <td>0</td>\n",
       "      <td>1</td>\n",
       "      <td>1</td>\n",
       "      <td>0</td>\n",
       "      <td>0</td>\n",
       "      <td>1</td>\n",
       "      <td>1371</td>\n",
       "      <td>0</td>\n",
       "      <td>1</td>\n",
       "    </tr>\n",
       "    <tr>\n",
       "      <th>4</th>\n",
       "      <td>0</td>\n",
       "      <td>1</td>\n",
       "      <td>2</td>\n",
       "      <td>70.70</td>\n",
       "      <td>151.65</td>\n",
       "      <td>0</td>\n",
       "      <td>0</td>\n",
       "      <td>0</td>\n",
       "      <td>0</td>\n",
       "      <td>1</td>\n",
       "      <td>0</td>\n",
       "      <td>0</td>\n",
       "      <td>0</td>\n",
       "      <td>0</td>\n",
       "      <td>0</td>\n",
       "      <td>0</td>\n",
       "      <td>0</td>\n",
       "      <td>61</td>\n",
       "      <td>1</td>\n",
       "      <td>0</td>\n",
       "    </tr>\n",
       "    <tr>\n",
       "      <th>5</th>\n",
       "      <td>0</td>\n",
       "      <td>1</td>\n",
       "      <td>2</td>\n",
       "      <td>99.65</td>\n",
       "      <td>820.50</td>\n",
       "      <td>0</td>\n",
       "      <td>0</td>\n",
       "      <td>0</td>\n",
       "      <td>0</td>\n",
       "      <td>1</td>\n",
       "      <td>0</td>\n",
       "      <td>0</td>\n",
       "      <td>1</td>\n",
       "      <td>0</td>\n",
       "      <td>1</td>\n",
       "      <td>1</td>\n",
       "      <td>2</td>\n",
       "      <td>245</td>\n",
       "      <td>1</td>\n",
       "      <td>0</td>\n",
       "    </tr>\n",
       "    <tr>\n",
       "      <th>6</th>\n",
       "      <td>0</td>\n",
       "      <td>1</td>\n",
       "      <td>1</td>\n",
       "      <td>89.10</td>\n",
       "      <td>1949.40</td>\n",
       "      <td>1</td>\n",
       "      <td>0</td>\n",
       "      <td>0</td>\n",
       "      <td>1</td>\n",
       "      <td>1</td>\n",
       "      <td>0</td>\n",
       "      <td>1</td>\n",
       "      <td>0</td>\n",
       "      <td>0</td>\n",
       "      <td>1</td>\n",
       "      <td>0</td>\n",
       "      <td>2</td>\n",
       "      <td>671</td>\n",
       "      <td>0</td>\n",
       "      <td>0</td>\n",
       "    </tr>\n",
       "    <tr>\n",
       "      <th>7</th>\n",
       "      <td>0</td>\n",
       "      <td>0</td>\n",
       "      <td>3</td>\n",
       "      <td>29.75</td>\n",
       "      <td>301.90</td>\n",
       "      <td>0</td>\n",
       "      <td>0</td>\n",
       "      <td>0</td>\n",
       "      <td>0</td>\n",
       "      <td>0</td>\n",
       "      <td>1</td>\n",
       "      <td>0</td>\n",
       "      <td>0</td>\n",
       "      <td>0</td>\n",
       "      <td>0</td>\n",
       "      <td>0</td>\n",
       "      <td>1</td>\n",
       "      <td>306</td>\n",
       "      <td>0</td>\n",
       "      <td>1</td>\n",
       "    </tr>\n",
       "    <tr>\n",
       "      <th>8</th>\n",
       "      <td>0</td>\n",
       "      <td>1</td>\n",
       "      <td>2</td>\n",
       "      <td>104.80</td>\n",
       "      <td>3046.05</td>\n",
       "      <td>0</td>\n",
       "      <td>0</td>\n",
       "      <td>1</td>\n",
       "      <td>0</td>\n",
       "      <td>1</td>\n",
       "      <td>0</td>\n",
       "      <td>0</td>\n",
       "      <td>1</td>\n",
       "      <td>1</td>\n",
       "      <td>1</td>\n",
       "      <td>1</td>\n",
       "      <td>2</td>\n",
       "      <td>853</td>\n",
       "      <td>1</td>\n",
       "      <td>0</td>\n",
       "    </tr>\n",
       "    <tr>\n",
       "      <th>9</th>\n",
       "      <td>1</td>\n",
       "      <td>0</td>\n",
       "      <td>0</td>\n",
       "      <td>56.15</td>\n",
       "      <td>3487.95</td>\n",
       "      <td>1</td>\n",
       "      <td>0</td>\n",
       "      <td>0</td>\n",
       "      <td>1</td>\n",
       "      <td>0</td>\n",
       "      <td>1</td>\n",
       "      <td>1</td>\n",
       "      <td>0</td>\n",
       "      <td>0</td>\n",
       "      <td>0</td>\n",
       "      <td>0</td>\n",
       "      <td>0</td>\n",
       "      <td>1888</td>\n",
       "      <td>0</td>\n",
       "      <td>0</td>\n",
       "    </tr>\n",
       "  </tbody>\n",
       "</table>\n",
       "</div>"
      ],
      "text/plain": [
       "   Type  PaperlessBilling  PaymentMethod  MonthlyCharges  TotalCharges  \\\n",
       "0     0                 1              2           29.85         29.85   \n",
       "1     1                 0              3           56.95       1889.50   \n",
       "2     0                 1              3           53.85        108.15   \n",
       "3     1                 0              0           42.30       1840.75   \n",
       "4     0                 1              2           70.70        151.65   \n",
       "5     0                 1              2           99.65        820.50   \n",
       "6     0                 1              1           89.10       1949.40   \n",
       "7     0                 0              3           29.75        301.90   \n",
       "8     0                 1              2          104.80       3046.05   \n",
       "9     1                 0              0           56.15       3487.95   \n",
       "\n",
       "   Gender  SeniorCitizen  Partner  Dependents  InternetService  \\\n",
       "0       0              0        1           0                0   \n",
       "1       1              0        0           0                0   \n",
       "2       1              0        0           0                0   \n",
       "3       1              0        0           0                0   \n",
       "4       0              0        0           0                1   \n",
       "5       0              0        0           0                1   \n",
       "6       1              0        0           1                1   \n",
       "7       0              0        0           0                0   \n",
       "8       0              0        1           0                1   \n",
       "9       1              0        0           1                0   \n",
       "\n",
       "   OnlineSecurity  OnlineBackup  DeviceProtection  TechSupport  StreamingTV  \\\n",
       "0               0             1                 0            0            0   \n",
       "1               1             0                 1            0            0   \n",
       "2               1             1                 0            0            0   \n",
       "3               1             0                 1            1            0   \n",
       "4               0             0                 0            0            0   \n",
       "5               0             0                 1            0            1   \n",
       "6               0             1                 0            0            1   \n",
       "7               1             0                 0            0            0   \n",
       "8               0             0                 1            1            1   \n",
       "9               1             1                 0            0            0   \n",
       "\n",
       "   StreamingMovies  MultipleLines  Duration  Churn  Services  \n",
       "0                0              1        31      0         1  \n",
       "1                0              0      1036      0         0  \n",
       "2                0              0        61      1         0  \n",
       "3                0              1      1371      0         1  \n",
       "4                0              0        61      1         0  \n",
       "5                1              2       245      1         0  \n",
       "6                0              2       671      0         0  \n",
       "7                0              1       306      0         1  \n",
       "8                1              2       853      1         0  \n",
       "9                0              0      1888      0         0  "
      ]
     },
     "execution_count": 54,
     "metadata": {},
     "output_type": "execute_result"
    }
   ],
   "source": [
    "categorials = list(data_ml.select_dtypes(include=['object']).columns)\n",
    "\n",
    "encoder = OrdinalEncoder() \n",
    "encoder.fit(data_ml[categorials]) \n",
    "\n",
    "data_ml[categorials] = encoder.transform(data_ml[categorials]).astype('int64')\n",
    "data_ml.head(10)"
   ]
  },
  {
   "cell_type": "markdown",
   "id": "a67f192c",
   "metadata": {},
   "source": [
    "Above we investigated correlation and found out that the strongest correlation have features \"Days\" and \"Total charges\". When training a model, it is necessary that there are no signs of strong correlation with each other (the quality of the model may drop), so we will remove one of the features."
   ]
  },
  {
   "cell_type": "code",
   "execution_count": 55,
   "id": "e53b261f",
   "metadata": {},
   "outputs": [],
   "source": [
    "data_ml = data_ml.drop('TotalCharges', axis = 1)"
   ]
  },
  {
   "cell_type": "markdown",
   "id": "9cb8fc8e",
   "metadata": {},
   "source": [
    "Let's split our dataset to the train and test sets in proportion 75:25. Since we have an imbalance of classes, we will use the *stratify* parameter, which will divide the samples in such a way that the class ratios are preserved in the training and test samples."
   ]
  },
  {
   "cell_type": "code",
   "execution_count": 56,
   "id": "6f596d48",
   "metadata": {},
   "outputs": [],
   "source": [
    "train, test = train_test_split(data_ml, test_size = 0.25, stratify = data_ml['Churn'], random_state=12345)"
   ]
  },
  {
   "cell_type": "code",
   "execution_count": 57,
   "id": "28653a47",
   "metadata": {},
   "outputs": [
    {
     "name": "stdout",
     "output_type": "stream",
     "text": [
      "Train set: 5282\n",
      "Test set: 1761\n"
     ]
    }
   ],
   "source": [
    "print('Train set:', len(train))\n",
    "print('Test set:', len(test))"
   ]
  },
  {
   "cell_type": "code",
   "execution_count": 58,
   "id": "61075640",
   "metadata": {},
   "outputs": [],
   "source": [
    "X_train = train.drop('Churn', axis = 1)\n",
    "X_test  = test.drop('Churn', axis = 1)\n",
    "\n",
    "y_train = train['Churn']\n",
    "y_test  = test['Churn']"
   ]
  },
  {
   "cell_type": "markdown",
   "id": "037bc502",
   "metadata": {},
   "source": [
    "We will bring the features to a single scale, for this we will standardize the data using StandardScaler(). We will train the model only on a test sample to reduce overfitting."
   ]
  },
  {
   "cell_type": "code",
   "execution_count": 59,
   "id": "c40ab6b1",
   "metadata": {},
   "outputs": [],
   "source": [
    "numeric = ['MonthlyCharges', 'Duration']\n",
    "scaler = StandardScaler()\n",
    "scaler.fit(X_train[numeric])\n",
    "\n",
    "X_train[numeric] = scaler.transform(X_train[numeric])\n",
    "X_test[numeric] = scaler.transform(X_test[numeric])"
   ]
  },
  {
   "cell_type": "markdown",
   "id": "99af9f31",
   "metadata": {},
   "source": [
    "### Conclusion."
   ]
  },
  {
   "cell_type": "markdown",
   "id": "24f559b8",
   "metadata": {},
   "source": [
    "We successfuly made a feature ingineering. We made encoding and scaling of the dataset and splitted it to the train and test sets. So now we can start to build our models."
   ]
  },
  {
   "cell_type": "markdown",
   "id": "1893e755",
   "metadata": {},
   "source": [
    "## Model building"
   ]
  },
  {
   "cell_type": "markdown",
   "id": "3e5c23aa",
   "metadata": {},
   "source": [
    "First of all let's write functions for our models and metrics."
   ]
  },
  {
   "cell_type": "markdown",
   "id": "f897a011",
   "metadata": {},
   "source": [
    "Let's train 4 models:\n",
    " - Logistic Regression Classifier\n",
    " - DecisionTreeClassifier\n",
    " - Random Forest Classifier\n",
    " - CatBoostClassifier\n",
    " "
   ]
  },
  {
   "cell_type": "markdown",
   "id": "26e2caa8",
   "metadata": {},
   "source": [
    "### Sanity Check"
   ]
  },
  {
   "cell_type": "code",
   "execution_count": 106,
   "id": "19e0ad8e",
   "metadata": {},
   "outputs": [
    {
     "name": "stdout",
     "output_type": "stream",
     "text": [
      "ROC-AUC score for sanity check model: 0.5\n",
      "Accuracy score for sanity check model: 0.26519023282226006\n"
     ]
    }
   ],
   "source": [
    "predicted_sanity_test = [1]*X_test.shape[0]\n",
    "print(\"ROC-AUC score for sanity check model:\", roc_auc_score(y_test, predicted_sanity_test))\n",
    "print(\"Accuracy score for sanity check model:\", accuracy_score(y_test, predicted_sanity_test))"
   ]
  },
  {
   "cell_type": "code",
   "execution_count": 143,
   "id": "a62ba3ce",
   "metadata": {},
   "outputs": [],
   "source": [
    "result = []"
   ]
  },
  {
   "cell_type": "markdown",
   "id": "62b34e56",
   "metadata": {},
   "source": [
    "### Logistic Regression Classifier"
   ]
  },
  {
   "cell_type": "code",
   "execution_count": 103,
   "id": "38d57e5e",
   "metadata": {},
   "outputs": [
    {
     "name": "stdout",
     "output_type": "stream",
     "text": [
      "Linear regression: mean_cross_val_score = 0.842\n"
     ]
    },
    {
     "data": {
      "text/html": [
       "<style>#sk-container-id-1 {color: black;background-color: white;}#sk-container-id-1 pre{padding: 0;}#sk-container-id-1 div.sk-toggleable {background-color: white;}#sk-container-id-1 label.sk-toggleable__label {cursor: pointer;display: block;width: 100%;margin-bottom: 0;padding: 0.3em;box-sizing: border-box;text-align: center;}#sk-container-id-1 label.sk-toggleable__label-arrow:before {content: \"▸\";float: left;margin-right: 0.25em;color: #696969;}#sk-container-id-1 label.sk-toggleable__label-arrow:hover:before {color: black;}#sk-container-id-1 div.sk-estimator:hover label.sk-toggleable__label-arrow:before {color: black;}#sk-container-id-1 div.sk-toggleable__content {max-height: 0;max-width: 0;overflow: hidden;text-align: left;background-color: #f0f8ff;}#sk-container-id-1 div.sk-toggleable__content pre {margin: 0.2em;color: black;border-radius: 0.25em;background-color: #f0f8ff;}#sk-container-id-1 input.sk-toggleable__control:checked~div.sk-toggleable__content {max-height: 200px;max-width: 100%;overflow: auto;}#sk-container-id-1 input.sk-toggleable__control:checked~label.sk-toggleable__label-arrow:before {content: \"▾\";}#sk-container-id-1 div.sk-estimator input.sk-toggleable__control:checked~label.sk-toggleable__label {background-color: #d4ebff;}#sk-container-id-1 div.sk-label input.sk-toggleable__control:checked~label.sk-toggleable__label {background-color: #d4ebff;}#sk-container-id-1 input.sk-hidden--visually {border: 0;clip: rect(1px 1px 1px 1px);clip: rect(1px, 1px, 1px, 1px);height: 1px;margin: -1px;overflow: hidden;padding: 0;position: absolute;width: 1px;}#sk-container-id-1 div.sk-estimator {font-family: monospace;background-color: #f0f8ff;border: 1px dotted black;border-radius: 0.25em;box-sizing: border-box;margin-bottom: 0.5em;}#sk-container-id-1 div.sk-estimator:hover {background-color: #d4ebff;}#sk-container-id-1 div.sk-parallel-item::after {content: \"\";width: 100%;border-bottom: 1px solid gray;flex-grow: 1;}#sk-container-id-1 div.sk-label:hover label.sk-toggleable__label {background-color: #d4ebff;}#sk-container-id-1 div.sk-serial::before {content: \"\";position: absolute;border-left: 1px solid gray;box-sizing: border-box;top: 0;bottom: 0;left: 50%;z-index: 0;}#sk-container-id-1 div.sk-serial {display: flex;flex-direction: column;align-items: center;background-color: white;padding-right: 0.2em;padding-left: 0.2em;position: relative;}#sk-container-id-1 div.sk-item {position: relative;z-index: 1;}#sk-container-id-1 div.sk-parallel {display: flex;align-items: stretch;justify-content: center;background-color: white;position: relative;}#sk-container-id-1 div.sk-item::before, #sk-container-id-1 div.sk-parallel-item::before {content: \"\";position: absolute;border-left: 1px solid gray;box-sizing: border-box;top: 0;bottom: 0;left: 50%;z-index: -1;}#sk-container-id-1 div.sk-parallel-item {display: flex;flex-direction: column;z-index: 1;position: relative;background-color: white;}#sk-container-id-1 div.sk-parallel-item:first-child::after {align-self: flex-end;width: 50%;}#sk-container-id-1 div.sk-parallel-item:last-child::after {align-self: flex-start;width: 50%;}#sk-container-id-1 div.sk-parallel-item:only-child::after {width: 0;}#sk-container-id-1 div.sk-dashed-wrapped {border: 1px dashed gray;margin: 0 0.4em 0.5em 0.4em;box-sizing: border-box;padding-bottom: 0.4em;background-color: white;}#sk-container-id-1 div.sk-label label {font-family: monospace;font-weight: bold;display: inline-block;line-height: 1.2em;}#sk-container-id-1 div.sk-label-container {text-align: center;}#sk-container-id-1 div.sk-container {/* jupyter's `normalize.less` sets `[hidden] { display: none; }` but bootstrap.min.css set `[hidden] { display: none !important; }` so we also need the `!important` here to be able to override the default hidden behavior on the sphinx rendered scikit-learn.org. See: https://github.com/scikit-learn/scikit-learn/issues/21755 */display: inline-block !important;position: relative;}#sk-container-id-1 div.sk-text-repr-fallback {display: none;}</style><div id=\"sk-container-id-1\" class=\"sk-top-container\"><div class=\"sk-text-repr-fallback\"><pre>LogisticRegression(random_state=12345, solver=&#x27;liblinear&#x27;)</pre><b>In a Jupyter environment, please rerun this cell to show the HTML representation or trust the notebook. <br />On GitHub, the HTML representation is unable to render, please try loading this page with nbviewer.org.</b></div><div class=\"sk-container\" hidden><div class=\"sk-item\"><div class=\"sk-estimator sk-toggleable\"><input class=\"sk-toggleable__control sk-hidden--visually\" id=\"sk-estimator-id-1\" type=\"checkbox\" checked><label for=\"sk-estimator-id-1\" class=\"sk-toggleable__label sk-toggleable__label-arrow\">LogisticRegression</label><div class=\"sk-toggleable__content\"><pre>LogisticRegression(random_state=12345, solver=&#x27;liblinear&#x27;)</pre></div></div></div></div></div>"
      ],
      "text/plain": [
       "LogisticRegression(random_state=12345, solver='liblinear')"
      ]
     },
     "execution_count": 103,
     "metadata": {},
     "output_type": "execute_result"
    }
   ],
   "source": [
    "lr = LogisticRegression(solver='liblinear',\n",
    "                        random_state=12345)\n",
    "\n",
    "scores = cross_val_score(lr, X_train, y_train, cv=5, scoring='roc_auc')\n",
    "print(\"Linear regression: mean_cross_val_score = {:.3f}\".format(scores.mean()))\n",
    "\n",
    "# train\n",
    "lr.fit(X_train, y_train)"
   ]
  },
  {
   "cell_type": "code",
   "execution_count": 118,
   "id": "6a9bcad0",
   "metadata": {},
   "outputs": [
    {
     "name": "stdout",
     "output_type": "stream",
     "text": [
      "Accuracy   = 0.80\n",
      "Recall     = 0.55\n",
      "Precission = 0.64\n",
      "F1         = 0.59\n",
      "AUC-ROC    = 0.84\n"
     ]
    },
    {
     "data": {
      "image/png": "[encoded data removed]",
      "text/plain": [
       "<Figure size 432x288 with 1 Axes>"
      ]
     },
     "metadata": {
      "needs_background": "light"
     },
     "output_type": "display_data"
    }
   ],
   "source": [
    "print('Accuracy   = {:.2f}'.format(accuracy_score(y_test, lr.predict(X_test))))\n",
    "print('Recall     = {:.2f}'.format(recall_score(y_test, lr.predict(X_test))))\n",
    "print('Precission = {:.2f}'.format(precision_score(y_test, lr.predict(X_test))))\n",
    "print('F1         = {:.2f}'.format(f1_score(y_test, lr.predict(X_test))))\n",
    "probabilities_valid = lr.predict_proba(X_test)\n",
    "probabilities_one_valid = probabilities_valid[:, 1]\n",
    "print('AUC-ROC    = {:.2f}'.format(roc_auc_score(y_test, probabilities_one_valid)))\n",
    "\n",
    "fpr, tpr, thresholds = roc_curve(y_test, probabilities_one_valid) \n",
    "plt.figure()\n",
    "plt.plot(fpr, tpr)\n",
    "plt.plot([0, 1], [0, 1], linestyle='--')\n",
    "plt.ylim([0.0, 1.0])\n",
    "plt.xlim([0.0, 1.0])\n",
    "plt.xlabel('False Positive Rate')\n",
    "plt.ylabel('True Positive Rate')\n",
    "plt.title('ROC-curve')\n",
    "plt.show()"
   ]
  },
  {
   "cell_type": "markdown",
   "id": "13c6a1b5",
   "metadata": {},
   "source": [
    "### DecisionTreeClassifier\n"
   ]
  },
  {
   "cell_type": "code",
   "execution_count": 117,
   "id": "b69e246b",
   "metadata": {},
   "outputs": [
    {
     "name": "stdout",
     "output_type": "stream",
     "text": [
      "Wall time: 13.8 s\n"
     ]
    },
    {
     "data": {
      "text/html": [
       "<style>#sk-container-id-2 {color: black;background-color: white;}#sk-container-id-2 pre{padding: 0;}#sk-container-id-2 div.sk-toggleable {background-color: white;}#sk-container-id-2 label.sk-toggleable__label {cursor: pointer;display: block;width: 100%;margin-bottom: 0;padding: 0.3em;box-sizing: border-box;text-align: center;}#sk-container-id-2 label.sk-toggleable__label-arrow:before {content: \"▸\";float: left;margin-right: 0.25em;color: #696969;}#sk-container-id-2 label.sk-toggleable__label-arrow:hover:before {color: black;}#sk-container-id-2 div.sk-estimator:hover label.sk-toggleable__label-arrow:before {color: black;}#sk-container-id-2 div.sk-toggleable__content {max-height: 0;max-width: 0;overflow: hidden;text-align: left;background-color: #f0f8ff;}#sk-container-id-2 div.sk-toggleable__content pre {margin: 0.2em;color: black;border-radius: 0.25em;background-color: #f0f8ff;}#sk-container-id-2 input.sk-toggleable__control:checked~div.sk-toggleable__content {max-height: 200px;max-width: 100%;overflow: auto;}#sk-container-id-2 input.sk-toggleable__control:checked~label.sk-toggleable__label-arrow:before {content: \"▾\";}#sk-container-id-2 div.sk-estimator input.sk-toggleable__control:checked~label.sk-toggleable__label {background-color: #d4ebff;}#sk-container-id-2 div.sk-label input.sk-toggleable__control:checked~label.sk-toggleable__label {background-color: #d4ebff;}#sk-container-id-2 input.sk-hidden--visually {border: 0;clip: rect(1px 1px 1px 1px);clip: rect(1px, 1px, 1px, 1px);height: 1px;margin: -1px;overflow: hidden;padding: 0;position: absolute;width: 1px;}#sk-container-id-2 div.sk-estimator {font-family: monospace;background-color: #f0f8ff;border: 1px dotted black;border-radius: 0.25em;box-sizing: border-box;margin-bottom: 0.5em;}#sk-container-id-2 div.sk-estimator:hover {background-color: #d4ebff;}#sk-container-id-2 div.sk-parallel-item::after {content: \"\";width: 100%;border-bottom: 1px solid gray;flex-grow: 1;}#sk-container-id-2 div.sk-label:hover label.sk-toggleable__label {background-color: #d4ebff;}#sk-container-id-2 div.sk-serial::before {content: \"\";position: absolute;border-left: 1px solid gray;box-sizing: border-box;top: 0;bottom: 0;left: 50%;z-index: 0;}#sk-container-id-2 div.sk-serial {display: flex;flex-direction: column;align-items: center;background-color: white;padding-right: 0.2em;padding-left: 0.2em;position: relative;}#sk-container-id-2 div.sk-item {position: relative;z-index: 1;}#sk-container-id-2 div.sk-parallel {display: flex;align-items: stretch;justify-content: center;background-color: white;position: relative;}#sk-container-id-2 div.sk-item::before, #sk-container-id-2 div.sk-parallel-item::before {content: \"\";position: absolute;border-left: 1px solid gray;box-sizing: border-box;top: 0;bottom: 0;left: 50%;z-index: -1;}#sk-container-id-2 div.sk-parallel-item {display: flex;flex-direction: column;z-index: 1;position: relative;background-color: white;}#sk-container-id-2 div.sk-parallel-item:first-child::after {align-self: flex-end;width: 50%;}#sk-container-id-2 div.sk-parallel-item:last-child::after {align-self: flex-start;width: 50%;}#sk-container-id-2 div.sk-parallel-item:only-child::after {width: 0;}#sk-container-id-2 div.sk-dashed-wrapped {border: 1px dashed gray;margin: 0 0.4em 0.5em 0.4em;box-sizing: border-box;padding-bottom: 0.4em;background-color: white;}#sk-container-id-2 div.sk-label label {font-family: monospace;font-weight: bold;display: inline-block;line-height: 1.2em;}#sk-container-id-2 div.sk-label-container {text-align: center;}#sk-container-id-2 div.sk-container {/* jupyter's `normalize.less` sets `[hidden] { display: none; }` but bootstrap.min.css set `[hidden] { display: none !important; }` so we also need the `!important` here to be able to override the default hidden behavior on the sphinx rendered scikit-learn.org. See: https://github.com/scikit-learn/scikit-learn/issues/21755 */display: inline-block !important;position: relative;}#sk-container-id-2 div.sk-text-repr-fallback {display: none;}</style><div id=\"sk-container-id-2\" class=\"sk-top-container\"><div class=\"sk-text-repr-fallback\"><pre>RandomizedSearchCV(cv=5, estimator=DecisionTreeClassifier(random_state=110),\n",
       "                   n_iter=40, n_jobs=-1,\n",
       "                   param_distributions={&#x27;max_depth&#x27;: range(2, 15),\n",
       "                                        &#x27;min_samples_leaf&#x27;: range(1, 6)},\n",
       "                   scoring=&#x27;roc_auc&#x27;)</pre><b>In a Jupyter environment, please rerun this cell to show the HTML representation or trust the notebook. <br />On GitHub, the HTML representation is unable to render, please try loading this page with nbviewer.org.</b></div><div class=\"sk-container\" hidden><div class=\"sk-item sk-dashed-wrapped\"><div class=\"sk-label-container\"><div class=\"sk-label sk-toggleable\"><input class=\"sk-toggleable__control sk-hidden--visually\" id=\"sk-estimator-id-2\" type=\"checkbox\" ><label for=\"sk-estimator-id-2\" class=\"sk-toggleable__label sk-toggleable__label-arrow\">RandomizedSearchCV</label><div class=\"sk-toggleable__content\"><pre>RandomizedSearchCV(cv=5, estimator=DecisionTreeClassifier(random_state=110),\n",
       "                   n_iter=40, n_jobs=-1,\n",
       "                   param_distributions={&#x27;max_depth&#x27;: range(2, 15),\n",
       "                                        &#x27;min_samples_leaf&#x27;: range(1, 6)},\n",
       "                   scoring=&#x27;roc_auc&#x27;)</pre></div></div></div><div class=\"sk-parallel\"><div class=\"sk-parallel-item\"><div class=\"sk-item\"><div class=\"sk-label-container\"><div class=\"sk-label sk-toggleable\"><input class=\"sk-toggleable__control sk-hidden--visually\" id=\"sk-estimator-id-3\" type=\"checkbox\" ><label for=\"sk-estimator-id-3\" class=\"sk-toggleable__label sk-toggleable__label-arrow\">estimator: DecisionTreeClassifier</label><div class=\"sk-toggleable__content\"><pre>DecisionTreeClassifier(random_state=110)</pre></div></div></div><div class=\"sk-serial\"><div class=\"sk-item\"><div class=\"sk-estimator sk-toggleable\"><input class=\"sk-toggleable__control sk-hidden--visually\" id=\"sk-estimator-id-4\" type=\"checkbox\" ><label for=\"sk-estimator-id-4\" class=\"sk-toggleable__label sk-toggleable__label-arrow\">DecisionTreeClassifier</label><div class=\"sk-toggleable__content\"><pre>DecisionTreeClassifier(random_state=110)</pre></div></div></div></div></div></div></div></div></div></div>"
      ],
      "text/plain": [
       "RandomizedSearchCV(cv=5, estimator=DecisionTreeClassifier(random_state=110),\n",
       "                   n_iter=40, n_jobs=-1,\n",
       "                   param_distributions={'max_depth': range(2, 15),\n",
       "                                        'min_samples_leaf': range(1, 6)},\n",
       "                   scoring='roc_auc')"
      ]
     },
     "execution_count": 117,
     "metadata": {},
     "output_type": "execute_result"
    }
   ],
   "source": [
    "%%time\n",
    "# tuning parameters\n",
    "\n",
    "# fixing random state\n",
    "random_state_value = 110\n",
    "\n",
    "# parameters\n",
    "rs_params = {\n",
    "    'max_depth': range(2, 15, 1),\n",
    "    'min_samples_leaf':range(1,6,1)\n",
    "}\n",
    "# create RandomizedSearchCV\n",
    "tree = RandomizedSearchCV(\n",
    "    DecisionTreeClassifier(\n",
    "        random_state=random_state_value\n",
    "        ),\n",
    "        rs_params,\n",
    "        scoring='roc_auc',\n",
    "        cv=5,\n",
    "        n_jobs=-1,\n",
    "        n_iter=40)\n",
    "# train model\n",
    "tree.fit(X_train, y_train)"
   ]
  },
  {
   "cell_type": "code",
   "execution_count": 123,
   "id": "39cbba38",
   "metadata": {},
   "outputs": [
    {
     "data": {
      "text/plain": [
       "{'min_samples_leaf': 2, 'max_depth': 6}"
      ]
     },
     "execution_count": 123,
     "metadata": {},
     "output_type": "execute_result"
    }
   ],
   "source": [
    "tree.best_params_"
   ]
  },
  {
   "cell_type": "code",
   "execution_count": 150,
   "id": "58ca47a4",
   "metadata": {},
   "outputs": [
    {
     "name": "stdout",
     "output_type": "stream",
     "text": [
      "DecisionTreeClassifier: mean_cross_val_score = 0.847\n"
     ]
    },
    {
     "data": {
      "text/html": [
       "<style>#sk-container-id-5 {color: black;background-color: white;}#sk-container-id-5 pre{padding: 0;}#sk-container-id-5 div.sk-toggleable {background-color: white;}#sk-container-id-5 label.sk-toggleable__label {cursor: pointer;display: block;width: 100%;margin-bottom: 0;padding: 0.3em;box-sizing: border-box;text-align: center;}#sk-container-id-5 label.sk-toggleable__label-arrow:before {content: \"▸\";float: left;margin-right: 0.25em;color: #696969;}#sk-container-id-5 label.sk-toggleable__label-arrow:hover:before {color: black;}#sk-container-id-5 div.sk-estimator:hover label.sk-toggleable__label-arrow:before {color: black;}#sk-container-id-5 div.sk-toggleable__content {max-height: 0;max-width: 0;overflow: hidden;text-align: left;background-color: #f0f8ff;}#sk-container-id-5 div.sk-toggleable__content pre {margin: 0.2em;color: black;border-radius: 0.25em;background-color: #f0f8ff;}#sk-container-id-5 input.sk-toggleable__control:checked~div.sk-toggleable__content {max-height: 200px;max-width: 100%;overflow: auto;}#sk-container-id-5 input.sk-toggleable__control:checked~label.sk-toggleable__label-arrow:before {content: \"▾\";}#sk-container-id-5 div.sk-estimator input.sk-toggleable__control:checked~label.sk-toggleable__label {background-color: #d4ebff;}#sk-container-id-5 div.sk-label input.sk-toggleable__control:checked~label.sk-toggleable__label {background-color: #d4ebff;}#sk-container-id-5 input.sk-hidden--visually {border: 0;clip: rect(1px 1px 1px 1px);clip: rect(1px, 1px, 1px, 1px);height: 1px;margin: -1px;overflow: hidden;padding: 0;position: absolute;width: 1px;}#sk-container-id-5 div.sk-estimator {font-family: monospace;background-color: #f0f8ff;border: 1px dotted black;border-radius: 0.25em;box-sizing: border-box;margin-bottom: 0.5em;}#sk-container-id-5 div.sk-estimator:hover {background-color: #d4ebff;}#sk-container-id-5 div.sk-parallel-item::after {content: \"\";width: 100%;border-bottom: 1px solid gray;flex-grow: 1;}#sk-container-id-5 div.sk-label:hover label.sk-toggleable__label {background-color: #d4ebff;}#sk-container-id-5 div.sk-serial::before {content: \"\";position: absolute;border-left: 1px solid gray;box-sizing: border-box;top: 0;bottom: 0;left: 50%;z-index: 0;}#sk-container-id-5 div.sk-serial {display: flex;flex-direction: column;align-items: center;background-color: white;padding-right: 0.2em;padding-left: 0.2em;position: relative;}#sk-container-id-5 div.sk-item {position: relative;z-index: 1;}#sk-container-id-5 div.sk-parallel {display: flex;align-items: stretch;justify-content: center;background-color: white;position: relative;}#sk-container-id-5 div.sk-item::before, #sk-container-id-5 div.sk-parallel-item::before {content: \"\";position: absolute;border-left: 1px solid gray;box-sizing: border-box;top: 0;bottom: 0;left: 50%;z-index: -1;}#sk-container-id-5 div.sk-parallel-item {display: flex;flex-direction: column;z-index: 1;position: relative;background-color: white;}#sk-container-id-5 div.sk-parallel-item:first-child::after {align-self: flex-end;width: 50%;}#sk-container-id-5 div.sk-parallel-item:last-child::after {align-self: flex-start;width: 50%;}#sk-container-id-5 div.sk-parallel-item:only-child::after {width: 0;}#sk-container-id-5 div.sk-dashed-wrapped {border: 1px dashed gray;margin: 0 0.4em 0.5em 0.4em;box-sizing: border-box;padding-bottom: 0.4em;background-color: white;}#sk-container-id-5 div.sk-label label {font-family: monospace;font-weight: bold;display: inline-block;line-height: 1.2em;}#sk-container-id-5 div.sk-label-container {text-align: center;}#sk-container-id-5 div.sk-container {/* jupyter's `normalize.less` sets `[hidden] { display: none; }` but bootstrap.min.css set `[hidden] { display: none !important; }` so we also need the `!important` here to be able to override the default hidden behavior on the sphinx rendered scikit-learn.org. See: https://github.com/scikit-learn/scikit-learn/issues/21755 */display: inline-block !important;position: relative;}#sk-container-id-5 div.sk-text-repr-fallback {display: none;}</style><div id=\"sk-container-id-5\" class=\"sk-top-container\"><div class=\"sk-text-repr-fallback\"><pre>DecisionTreeClassifier(max_depth=6, min_samples_leaf=2, random_state=12345)</pre><b>In a Jupyter environment, please rerun this cell to show the HTML representation or trust the notebook. <br />On GitHub, the HTML representation is unable to render, please try loading this page with nbviewer.org.</b></div><div class=\"sk-container\" hidden><div class=\"sk-item\"><div class=\"sk-estimator sk-toggleable\"><input class=\"sk-toggleable__control sk-hidden--visually\" id=\"sk-estimator-id-11\" type=\"checkbox\" checked><label for=\"sk-estimator-id-11\" class=\"sk-toggleable__label sk-toggleable__label-arrow\">DecisionTreeClassifier</label><div class=\"sk-toggleable__content\"><pre>DecisionTreeClassifier(max_depth=6, min_samples_leaf=2, random_state=12345)</pre></div></div></div></div></div>"
      ],
      "text/plain": [
       "DecisionTreeClassifier(max_depth=6, min_samples_leaf=2, random_state=12345)"
      ]
     },
     "execution_count": 150,
     "metadata": {},
     "output_type": "execute_result"
    }
   ],
   "source": [
    "tree = DecisionTreeClassifier(max_depth=6,\n",
    "                              min_samples_leaf=2,\n",
    "                             random_state=12345)\n",
    "scores = cross_val_score(tree, X_train, y_train, cv=5, scoring='roc_auc')\n",
    "print(\"DecisionTreeClassifier: mean_cross_val_score = {:.3f}\".format(scores.mean()))\n",
    "\n",
    "tree.fit(X_train, y_train)"
   ]
  },
  {
   "cell_type": "code",
   "execution_count": 151,
   "id": "d465282e",
   "metadata": {},
   "outputs": [
    {
     "name": "stdout",
     "output_type": "stream",
     "text": [
      "Accuracy   = 0.80\n",
      "Recall     = 0.43\n",
      "Precission = 0.69\n",
      "F1         = 0.53\n",
      "AUC-ROC    = 0.83\n"
     ]
    },
    {
     "data": {
      "image/png": "[encoded data removed]",
      "text/plain": [
       "<Figure size 432x288 with 1 Axes>"
      ]
     },
     "metadata": {
      "needs_background": "light"
     },
     "output_type": "display_data"
    }
   ],
   "source": [
    "print('Accuracy   = {:.2f}'.format(accuracy_score(y_test, tree.predict(X_test))))\n",
    "print('Recall     = {:.2f}'.format(recall_score(y_test, tree.predict(X_test))))\n",
    "print('Precission = {:.2f}'.format(precision_score(y_test, tree.predict(X_test))))\n",
    "print('F1         = {:.2f}'.format(f1_score(y_test, tree.predict(X_test))))\n",
    "probabilities_valid = tree.predict_proba(X_test)\n",
    "probabilities_one_valid = probabilities_valid[:, 1]\n",
    "print('AUC-ROC    = {:.2f}'.format(roc_auc_score(y_test, probabilities_one_valid)))\n",
    "\n",
    "fpr, tpr, thresholds = roc_curve(y_test, probabilities_one_valid) \n",
    "plt.figure()\n",
    "plt.plot(fpr, tpr)\n",
    "plt.plot([0, 1], [0, 1], linestyle='--')\n",
    "plt.ylim([0.0, 1.0])\n",
    "plt.xlim([0.0, 1.0])\n",
    "plt.xlabel('False Positive Rate')\n",
    "plt.ylabel('True Positive Rate')\n",
    "plt.title('ROC-curve')\n",
    "plt.show()"
   ]
  },
  {
   "cell_type": "markdown",
   "id": "22c5504e",
   "metadata": {},
   "source": [
    "### RandomForestClassifier"
   ]
  },
  {
   "cell_type": "code",
   "execution_count": 120,
   "id": "e0514c78",
   "metadata": {},
   "outputs": [
    {
     "name": "stdout",
     "output_type": "stream",
     "text": [
      "Wall time: 40.7 s\n"
     ]
    },
    {
     "data": {
      "text/html": [
       "<style>#sk-container-id-3 {color: black;background-color: white;}#sk-container-id-3 pre{padding: 0;}#sk-container-id-3 div.sk-toggleable {background-color: white;}#sk-container-id-3 label.sk-toggleable__label {cursor: pointer;display: block;width: 100%;margin-bottom: 0;padding: 0.3em;box-sizing: border-box;text-align: center;}#sk-container-id-3 label.sk-toggleable__label-arrow:before {content: \"▸\";float: left;margin-right: 0.25em;color: #696969;}#sk-container-id-3 label.sk-toggleable__label-arrow:hover:before {color: black;}#sk-container-id-3 div.sk-estimator:hover label.sk-toggleable__label-arrow:before {color: black;}#sk-container-id-3 div.sk-toggleable__content {max-height: 0;max-width: 0;overflow: hidden;text-align: left;background-color: #f0f8ff;}#sk-container-id-3 div.sk-toggleable__content pre {margin: 0.2em;color: black;border-radius: 0.25em;background-color: #f0f8ff;}#sk-container-id-3 input.sk-toggleable__control:checked~div.sk-toggleable__content {max-height: 200px;max-width: 100%;overflow: auto;}#sk-container-id-3 input.sk-toggleable__control:checked~label.sk-toggleable__label-arrow:before {content: \"▾\";}#sk-container-id-3 div.sk-estimator input.sk-toggleable__control:checked~label.sk-toggleable__label {background-color: #d4ebff;}#sk-container-id-3 div.sk-label input.sk-toggleable__control:checked~label.sk-toggleable__label {background-color: #d4ebff;}#sk-container-id-3 input.sk-hidden--visually {border: 0;clip: rect(1px 1px 1px 1px);clip: rect(1px, 1px, 1px, 1px);height: 1px;margin: -1px;overflow: hidden;padding: 0;position: absolute;width: 1px;}#sk-container-id-3 div.sk-estimator {font-family: monospace;background-color: #f0f8ff;border: 1px dotted black;border-radius: 0.25em;box-sizing: border-box;margin-bottom: 0.5em;}#sk-container-id-3 div.sk-estimator:hover {background-color: #d4ebff;}#sk-container-id-3 div.sk-parallel-item::after {content: \"\";width: 100%;border-bottom: 1px solid gray;flex-grow: 1;}#sk-container-id-3 div.sk-label:hover label.sk-toggleable__label {background-color: #d4ebff;}#sk-container-id-3 div.sk-serial::before {content: \"\";position: absolute;border-left: 1px solid gray;box-sizing: border-box;top: 0;bottom: 0;left: 50%;z-index: 0;}#sk-container-id-3 div.sk-serial {display: flex;flex-direction: column;align-items: center;background-color: white;padding-right: 0.2em;padding-left: 0.2em;position: relative;}#sk-container-id-3 div.sk-item {position: relative;z-index: 1;}#sk-container-id-3 div.sk-parallel {display: flex;align-items: stretch;justify-content: center;background-color: white;position: relative;}#sk-container-id-3 div.sk-item::before, #sk-container-id-3 div.sk-parallel-item::before {content: \"\";position: absolute;border-left: 1px solid gray;box-sizing: border-box;top: 0;bottom: 0;left: 50%;z-index: -1;}#sk-container-id-3 div.sk-parallel-item {display: flex;flex-direction: column;z-index: 1;position: relative;background-color: white;}#sk-container-id-3 div.sk-parallel-item:first-child::after {align-self: flex-end;width: 50%;}#sk-container-id-3 div.sk-parallel-item:last-child::after {align-self: flex-start;width: 50%;}#sk-container-id-3 div.sk-parallel-item:only-child::after {width: 0;}#sk-container-id-3 div.sk-dashed-wrapped {border: 1px dashed gray;margin: 0 0.4em 0.5em 0.4em;box-sizing: border-box;padding-bottom: 0.4em;background-color: white;}#sk-container-id-3 div.sk-label label {font-family: monospace;font-weight: bold;display: inline-block;line-height: 1.2em;}#sk-container-id-3 div.sk-label-container {text-align: center;}#sk-container-id-3 div.sk-container {/* jupyter's `normalize.less` sets `[hidden] { display: none; }` but bootstrap.min.css set `[hidden] { display: none !important; }` so we also need the `!important` here to be able to override the default hidden behavior on the sphinx rendered scikit-learn.org. See: https://github.com/scikit-learn/scikit-learn/issues/21755 */display: inline-block !important;position: relative;}#sk-container-id-3 div.sk-text-repr-fallback {display: none;}</style><div id=\"sk-container-id-3\" class=\"sk-top-container\"><div class=\"sk-text-repr-fallback\"><pre>RandomizedSearchCV(cv=5, estimator=RandomForestClassifier(random_state=110),\n",
       "                   n_iter=40, n_jobs=-1,\n",
       "                   param_distributions={&#x27;max_depth&#x27;: range(5, 15),\n",
       "                                        &#x27;min_samples_leaf&#x27;: range(1, 4),\n",
       "                                        &#x27;n_estimators&#x27;: range(100, 400, 50)},\n",
       "                   scoring=&#x27;roc_auc&#x27;)</pre><b>In a Jupyter environment, please rerun this cell to show the HTML representation or trust the notebook. <br />On GitHub, the HTML representation is unable to render, please try loading this page with nbviewer.org.</b></div><div class=\"sk-container\" hidden><div class=\"sk-item sk-dashed-wrapped\"><div class=\"sk-label-container\"><div class=\"sk-label sk-toggleable\"><input class=\"sk-toggleable__control sk-hidden--visually\" id=\"sk-estimator-id-5\" type=\"checkbox\" ><label for=\"sk-estimator-id-5\" class=\"sk-toggleable__label sk-toggleable__label-arrow\">RandomizedSearchCV</label><div class=\"sk-toggleable__content\"><pre>RandomizedSearchCV(cv=5, estimator=RandomForestClassifier(random_state=110),\n",
       "                   n_iter=40, n_jobs=-1,\n",
       "                   param_distributions={&#x27;max_depth&#x27;: range(5, 15),\n",
       "                                        &#x27;min_samples_leaf&#x27;: range(1, 4),\n",
       "                                        &#x27;n_estimators&#x27;: range(100, 400, 50)},\n",
       "                   scoring=&#x27;roc_auc&#x27;)</pre></div></div></div><div class=\"sk-parallel\"><div class=\"sk-parallel-item\"><div class=\"sk-item\"><div class=\"sk-label-container\"><div class=\"sk-label sk-toggleable\"><input class=\"sk-toggleable__control sk-hidden--visually\" id=\"sk-estimator-id-6\" type=\"checkbox\" ><label for=\"sk-estimator-id-6\" class=\"sk-toggleable__label sk-toggleable__label-arrow\">estimator: RandomForestClassifier</label><div class=\"sk-toggleable__content\"><pre>RandomForestClassifier(random_state=110)</pre></div></div></div><div class=\"sk-serial\"><div class=\"sk-item\"><div class=\"sk-estimator sk-toggleable\"><input class=\"sk-toggleable__control sk-hidden--visually\" id=\"sk-estimator-id-7\" type=\"checkbox\" ><label for=\"sk-estimator-id-7\" class=\"sk-toggleable__label sk-toggleable__label-arrow\">RandomForestClassifier</label><div class=\"sk-toggleable__content\"><pre>RandomForestClassifier(random_state=110)</pre></div></div></div></div></div></div></div></div></div></div>"
      ],
      "text/plain": [
       "RandomizedSearchCV(cv=5, estimator=RandomForestClassifier(random_state=110),\n",
       "                   n_iter=40, n_jobs=-1,\n",
       "                   param_distributions={'max_depth': range(5, 15),\n",
       "                                        'min_samples_leaf': range(1, 4),\n",
       "                                        'n_estimators': range(100, 400, 50)},\n",
       "                   scoring='roc_auc')"
      ]
     },
     "execution_count": 120,
     "metadata": {},
     "output_type": "execute_result"
    }
   ],
   "source": [
    "%%time\n",
    "# tuning parameters\n",
    "\n",
    "# fixing random state\n",
    "random_state_value = 110\n",
    "\n",
    "# parameters\n",
    "rs_params = {\n",
    "    'max_depth': range(5, 15, 1),\n",
    "    'min_samples_leaf':range(1,4,1),\n",
    "    'n_estimators':range(100,400,50)\n",
    "}\n",
    "# create RandomizedSearchCV\n",
    "rf = RandomizedSearchCV(\n",
    "    RandomForestClassifier(\n",
    "        random_state=random_state_value\n",
    "        ),\n",
    "        rs_params,\n",
    "        scoring='roc_auc',\n",
    "        cv=5,\n",
    "        n_jobs=-1,\n",
    "        n_iter=40)\n",
    "# train model\n",
    "rf.fit(X_train, y_train)"
   ]
  },
  {
   "cell_type": "code",
   "execution_count": 124,
   "id": "09687365",
   "metadata": {},
   "outputs": [
    {
     "data": {
      "text/plain": [
       "{'n_estimators': 350, 'min_samples_leaf': 2, 'max_depth': 8}"
      ]
     },
     "execution_count": 124,
     "metadata": {},
     "output_type": "execute_result"
    }
   ],
   "source": [
    "rf.best_params_"
   ]
  },
  {
   "cell_type": "code",
   "execution_count": 155,
   "id": "a8da8490",
   "metadata": {},
   "outputs": [
    {
     "name": "stdout",
     "output_type": "stream",
     "text": [
      "RandomForestClassifier: mean_cross_val_score = 0.860\n"
     ]
    },
    {
     "data": {
      "text/html": [
       "<style>#sk-container-id-6 {color: black;background-color: white;}#sk-container-id-6 pre{padding: 0;}#sk-container-id-6 div.sk-toggleable {background-color: white;}#sk-container-id-6 label.sk-toggleable__label {cursor: pointer;display: block;width: 100%;margin-bottom: 0;padding: 0.3em;box-sizing: border-box;text-align: center;}#sk-container-id-6 label.sk-toggleable__label-arrow:before {content: \"▸\";float: left;margin-right: 0.25em;color: #696969;}#sk-container-id-6 label.sk-toggleable__label-arrow:hover:before {color: black;}#sk-container-id-6 div.sk-estimator:hover label.sk-toggleable__label-arrow:before {color: black;}#sk-container-id-6 div.sk-toggleable__content {max-height: 0;max-width: 0;overflow: hidden;text-align: left;background-color: #f0f8ff;}#sk-container-id-6 div.sk-toggleable__content pre {margin: 0.2em;color: black;border-radius: 0.25em;background-color: #f0f8ff;}#sk-container-id-6 input.sk-toggleable__control:checked~div.sk-toggleable__content {max-height: 200px;max-width: 100%;overflow: auto;}#sk-container-id-6 input.sk-toggleable__control:checked~label.sk-toggleable__label-arrow:before {content: \"▾\";}#sk-container-id-6 div.sk-estimator input.sk-toggleable__control:checked~label.sk-toggleable__label {background-color: #d4ebff;}#sk-container-id-6 div.sk-label input.sk-toggleable__control:checked~label.sk-toggleable__label {background-color: #d4ebff;}#sk-container-id-6 input.sk-hidden--visually {border: 0;clip: rect(1px 1px 1px 1px);clip: rect(1px, 1px, 1px, 1px);height: 1px;margin: -1px;overflow: hidden;padding: 0;position: absolute;width: 1px;}#sk-container-id-6 div.sk-estimator {font-family: monospace;background-color: #f0f8ff;border: 1px dotted black;border-radius: 0.25em;box-sizing: border-box;margin-bottom: 0.5em;}#sk-container-id-6 div.sk-estimator:hover {background-color: #d4ebff;}#sk-container-id-6 div.sk-parallel-item::after {content: \"\";width: 100%;border-bottom: 1px solid gray;flex-grow: 1;}#sk-container-id-6 div.sk-label:hover label.sk-toggleable__label {background-color: #d4ebff;}#sk-container-id-6 div.sk-serial::before {content: \"\";position: absolute;border-left: 1px solid gray;box-sizing: border-box;top: 0;bottom: 0;left: 50%;z-index: 0;}#sk-container-id-6 div.sk-serial {display: flex;flex-direction: column;align-items: center;background-color: white;padding-right: 0.2em;padding-left: 0.2em;position: relative;}#sk-container-id-6 div.sk-item {position: relative;z-index: 1;}#sk-container-id-6 div.sk-parallel {display: flex;align-items: stretch;justify-content: center;background-color: white;position: relative;}#sk-container-id-6 div.sk-item::before, #sk-container-id-6 div.sk-parallel-item::before {content: \"\";position: absolute;border-left: 1px solid gray;box-sizing: border-box;top: 0;bottom: 0;left: 50%;z-index: -1;}#sk-container-id-6 div.sk-parallel-item {display: flex;flex-direction: column;z-index: 1;position: relative;background-color: white;}#sk-container-id-6 div.sk-parallel-item:first-child::after {align-self: flex-end;width: 50%;}#sk-container-id-6 div.sk-parallel-item:last-child::after {align-self: flex-start;width: 50%;}#sk-container-id-6 div.sk-parallel-item:only-child::after {width: 0;}#sk-container-id-6 div.sk-dashed-wrapped {border: 1px dashed gray;margin: 0 0.4em 0.5em 0.4em;box-sizing: border-box;padding-bottom: 0.4em;background-color: white;}#sk-container-id-6 div.sk-label label {font-family: monospace;font-weight: bold;display: inline-block;line-height: 1.2em;}#sk-container-id-6 div.sk-label-container {text-align: center;}#sk-container-id-6 div.sk-container {/* jupyter's `normalize.less` sets `[hidden] { display: none; }` but bootstrap.min.css set `[hidden] { display: none !important; }` so we also need the `!important` here to be able to override the default hidden behavior on the sphinx rendered scikit-learn.org. See: https://github.com/scikit-learn/scikit-learn/issues/21755 */display: inline-block !important;position: relative;}#sk-container-id-6 div.sk-text-repr-fallback {display: none;}</style><div id=\"sk-container-id-6\" class=\"sk-top-container\"><div class=\"sk-text-repr-fallback\"><pre>RandomForestClassifier(max_depth=8, min_samples_leaf=2, n_estimators=350,\n",
       "                       random_state=12345)</pre><b>In a Jupyter environment, please rerun this cell to show the HTML representation or trust the notebook. <br />On GitHub, the HTML representation is unable to render, please try loading this page with nbviewer.org.</b></div><div class=\"sk-container\" hidden><div class=\"sk-item\"><div class=\"sk-estimator sk-toggleable\"><input class=\"sk-toggleable__control sk-hidden--visually\" id=\"sk-estimator-id-12\" type=\"checkbox\" checked><label for=\"sk-estimator-id-12\" class=\"sk-toggleable__label sk-toggleable__label-arrow\">RandomForestClassifier</label><div class=\"sk-toggleable__content\"><pre>RandomForestClassifier(max_depth=8, min_samples_leaf=2, n_estimators=350,\n",
       "                       random_state=12345)</pre></div></div></div></div></div>"
      ],
      "text/plain": [
       "RandomForestClassifier(max_depth=8, min_samples_leaf=2, n_estimators=350,\n",
       "                       random_state=12345)"
      ]
     },
     "execution_count": 155,
     "metadata": {},
     "output_type": "execute_result"
    }
   ],
   "source": [
    "rf = RandomForestClassifier(max_depth=8,\n",
    "                              min_samples_leaf=2,\n",
    "                              n_estimators=350,\n",
    "                             random_state=12345)\n",
    "scores = cross_val_score(rf, X_train, y_train, cv=5, scoring='roc_auc')\n",
    "print(\"RandomForestClassifier: mean_cross_val_score = {:.3f}\".format(scores.mean()))\n",
    "\n",
    "rf.fit(X_train, y_train)"
   ]
  },
  {
   "cell_type": "code",
   "execution_count": 156,
   "id": "7cad6240",
   "metadata": {},
   "outputs": [
    {
     "name": "stdout",
     "output_type": "stream",
     "text": [
      "Accuracy   = 0.81\n",
      "Recall     = 0.51\n",
      "Precission = 0.70\n",
      "F1         = 0.59\n",
      "AUC-ROC    = 0.86\n"
     ]
    },
    {
     "data": {
      "image/png": "[encoded data removed]",
      "text/plain": [
       "<Figure size 432x288 with 1 Axes>"
      ]
     },
     "metadata": {
      "needs_background": "light"
     },
     "output_type": "display_data"
    }
   ],
   "source": [
    "print('Accuracy   = {:.2f}'.format(accuracy_score(y_test, rf.predict(X_test))))\n",
    "print('Recall     = {:.2f}'.format(recall_score(y_test, rf.predict(X_test))))\n",
    "print('Precission = {:.2f}'.format(precision_score(y_test, rf.predict(X_test))))\n",
    "print('F1         = {:.2f}'.format(f1_score(y_test, rf.predict(X_test))))\n",
    "probabilities_valid = rf.predict_proba(X_test)\n",
    "probabilities_one_valid = probabilities_valid[:, 1]\n",
    "print('AUC-ROC    = {:.2f}'.format(roc_auc_score(y_test, probabilities_one_valid)))\n",
    "\n",
    "fpr, tpr, thresholds = roc_curve(y_test, probabilities_one_valid) \n",
    "plt.figure()\n",
    "plt.plot(fpr, tpr)\n",
    "plt.plot([0, 1], [0, 1], linestyle='--')\n",
    "plt.ylim([0.0, 1.0])\n",
    "plt.xlim([0.0, 1.0])\n",
    "plt.xlabel('False Positive Rate')\n",
    "plt.ylabel('True Positive Rate')\n",
    "plt.title('ROC-curve')\n",
    "plt.show()"
   ]
  },
  {
   "cell_type": "markdown",
   "id": "74adbd44",
   "metadata": {},
   "source": [
    "### CatBoostClassifier\n"
   ]
  },
  {
   "cell_type": "code",
   "execution_count": 122,
   "id": "16833645",
   "metadata": {},
   "outputs": [
    {
     "name": "stdout",
     "output_type": "stream",
     "text": [
      "Wall time: 18min 15s\n"
     ]
    },
    {
     "data": {
      "text/html": [
       "<style>#sk-container-id-4 {color: black;background-color: white;}#sk-container-id-4 pre{padding: 0;}#sk-container-id-4 div.sk-toggleable {background-color: white;}#sk-container-id-4 label.sk-toggleable__label {cursor: pointer;display: block;width: 100%;margin-bottom: 0;padding: 0.3em;box-sizing: border-box;text-align: center;}#sk-container-id-4 label.sk-toggleable__label-arrow:before {content: \"▸\";float: left;margin-right: 0.25em;color: #696969;}#sk-container-id-4 label.sk-toggleable__label-arrow:hover:before {color: black;}#sk-container-id-4 div.sk-estimator:hover label.sk-toggleable__label-arrow:before {color: black;}#sk-container-id-4 div.sk-toggleable__content {max-height: 0;max-width: 0;overflow: hidden;text-align: left;background-color: #f0f8ff;}#sk-container-id-4 div.sk-toggleable__content pre {margin: 0.2em;color: black;border-radius: 0.25em;background-color: #f0f8ff;}#sk-container-id-4 input.sk-toggleable__control:checked~div.sk-toggleable__content {max-height: 200px;max-width: 100%;overflow: auto;}#sk-container-id-4 input.sk-toggleable__control:checked~label.sk-toggleable__label-arrow:before {content: \"▾\";}#sk-container-id-4 div.sk-estimator input.sk-toggleable__control:checked~label.sk-toggleable__label {background-color: #d4ebff;}#sk-container-id-4 div.sk-label input.sk-toggleable__control:checked~label.sk-toggleable__label {background-color: #d4ebff;}#sk-container-id-4 input.sk-hidden--visually {border: 0;clip: rect(1px 1px 1px 1px);clip: rect(1px, 1px, 1px, 1px);height: 1px;margin: -1px;overflow: hidden;padding: 0;position: absolute;width: 1px;}#sk-container-id-4 div.sk-estimator {font-family: monospace;background-color: #f0f8ff;border: 1px dotted black;border-radius: 0.25em;box-sizing: border-box;margin-bottom: 0.5em;}#sk-container-id-4 div.sk-estimator:hover {background-color: #d4ebff;}#sk-container-id-4 div.sk-parallel-item::after {content: \"\";width: 100%;border-bottom: 1px solid gray;flex-grow: 1;}#sk-container-id-4 div.sk-label:hover label.sk-toggleable__label {background-color: #d4ebff;}#sk-container-id-4 div.sk-serial::before {content: \"\";position: absolute;border-left: 1px solid gray;box-sizing: border-box;top: 0;bottom: 0;left: 50%;z-index: 0;}#sk-container-id-4 div.sk-serial {display: flex;flex-direction: column;align-items: center;background-color: white;padding-right: 0.2em;padding-left: 0.2em;position: relative;}#sk-container-id-4 div.sk-item {position: relative;z-index: 1;}#sk-container-id-4 div.sk-parallel {display: flex;align-items: stretch;justify-content: center;background-color: white;position: relative;}#sk-container-id-4 div.sk-item::before, #sk-container-id-4 div.sk-parallel-item::before {content: \"\";position: absolute;border-left: 1px solid gray;box-sizing: border-box;top: 0;bottom: 0;left: 50%;z-index: -1;}#sk-container-id-4 div.sk-parallel-item {display: flex;flex-direction: column;z-index: 1;position: relative;background-color: white;}#sk-container-id-4 div.sk-parallel-item:first-child::after {align-self: flex-end;width: 50%;}#sk-container-id-4 div.sk-parallel-item:last-child::after {align-self: flex-start;width: 50%;}#sk-container-id-4 div.sk-parallel-item:only-child::after {width: 0;}#sk-container-id-4 div.sk-dashed-wrapped {border: 1px dashed gray;margin: 0 0.4em 0.5em 0.4em;box-sizing: border-box;padding-bottom: 0.4em;background-color: white;}#sk-container-id-4 div.sk-label label {font-family: monospace;font-weight: bold;display: inline-block;line-height: 1.2em;}#sk-container-id-4 div.sk-label-container {text-align: center;}#sk-container-id-4 div.sk-container {/* jupyter's `normalize.less` sets `[hidden] { display: none; }` but bootstrap.min.css set `[hidden] { display: none !important; }` so we also need the `!important` here to be able to override the default hidden behavior on the sphinx rendered scikit-learn.org. See: https://github.com/scikit-learn/scikit-learn/issues/21755 */display: inline-block !important;position: relative;}#sk-container-id-4 div.sk-text-repr-fallback {display: none;}</style><div id=\"sk-container-id-4\" class=\"sk-top-container\"><div class=\"sk-text-repr-fallback\"><pre>RandomizedSearchCV(cv=5,\n",
       "                   estimator=&lt;catboost.core.CatBoostClassifier object at 0x000002A4DCA491F0&gt;,\n",
       "                   n_iter=20, n_jobs=-1,\n",
       "                   param_distributions={&#x27;depth&#x27;: range(1, 15),\n",
       "                                        &#x27;iterations&#x27;: range(100, 1000, 100),\n",
       "                                        &#x27;learning_rate&#x27;: array([0.001, 0.011, 0.021, 0.031, 0.041, 0.051, 0.061, 0.071, 0.081,\n",
       "       0.091, 0.101, 0.111, 0.121, 0.131, 0.141, 0.151, 0.161, 0.171,\n",
       "       0.181, 0.191, 0.201, 0.211, 0.221, 0.231, 0.241, 0.251, 0.261,\n",
       "       0.271, 0.281, 0.291, 0.301, 0.311, 0.321, 0.331, 0.341, 0.351,\n",
       "       0.361, 0.371, 0.381, 0.391, 0.401, 0.411, 0.421, 0.431, 0.441,\n",
       "       0.451, 0.461, 0.471, 0.481, 0.491])},\n",
       "                   scoring=&#x27;roc_auc&#x27;)</pre><b>In a Jupyter environment, please rerun this cell to show the HTML representation or trust the notebook. <br />On GitHub, the HTML representation is unable to render, please try loading this page with nbviewer.org.</b></div><div class=\"sk-container\" hidden><div class=\"sk-item sk-dashed-wrapped\"><div class=\"sk-label-container\"><div class=\"sk-label sk-toggleable\"><input class=\"sk-toggleable__control sk-hidden--visually\" id=\"sk-estimator-id-8\" type=\"checkbox\" ><label for=\"sk-estimator-id-8\" class=\"sk-toggleable__label sk-toggleable__label-arrow\">RandomizedSearchCV</label><div class=\"sk-toggleable__content\"><pre>RandomizedSearchCV(cv=5,\n",
       "                   estimator=&lt;catboost.core.CatBoostClassifier object at 0x000002A4DCA491F0&gt;,\n",
       "                   n_iter=20, n_jobs=-1,\n",
       "                   param_distributions={&#x27;depth&#x27;: range(1, 15),\n",
       "                                        &#x27;iterations&#x27;: range(100, 1000, 100),\n",
       "                                        &#x27;learning_rate&#x27;: array([0.001, 0.011, 0.021, 0.031, 0.041, 0.051, 0.061, 0.071, 0.081,\n",
       "       0.091, 0.101, 0.111, 0.121, 0.131, 0.141, 0.151, 0.161, 0.171,\n",
       "       0.181, 0.191, 0.201, 0.211, 0.221, 0.231, 0.241, 0.251, 0.261,\n",
       "       0.271, 0.281, 0.291, 0.301, 0.311, 0.321, 0.331, 0.341, 0.351,\n",
       "       0.361, 0.371, 0.381, 0.391, 0.401, 0.411, 0.421, 0.431, 0.441,\n",
       "       0.451, 0.461, 0.471, 0.481, 0.491])},\n",
       "                   scoring=&#x27;roc_auc&#x27;)</pre></div></div></div><div class=\"sk-parallel\"><div class=\"sk-parallel-item\"><div class=\"sk-item\"><div class=\"sk-label-container\"><div class=\"sk-label sk-toggleable\"><input class=\"sk-toggleable__control sk-hidden--visually\" id=\"sk-estimator-id-9\" type=\"checkbox\" ><label for=\"sk-estimator-id-9\" class=\"sk-toggleable__label sk-toggleable__label-arrow\">estimator: CatBoostClassifier</label><div class=\"sk-toggleable__content\"><pre>&lt;catboost.core.CatBoostClassifier object at 0x000002A4DCA491F0&gt;</pre></div></div></div><div class=\"sk-serial\"><div class=\"sk-item\"><div class=\"sk-estimator sk-toggleable\"><input class=\"sk-toggleable__control sk-hidden--visually\" id=\"sk-estimator-id-10\" type=\"checkbox\" ><label for=\"sk-estimator-id-10\" class=\"sk-toggleable__label sk-toggleable__label-arrow\">CatBoostClassifier</label><div class=\"sk-toggleable__content\"><pre>&lt;catboost.core.CatBoostClassifier object at 0x000002A4DCA491F0&gt;</pre></div></div></div></div></div></div></div></div></div></div>"
      ],
      "text/plain": [
       "RandomizedSearchCV(cv=5,\n",
       "                   estimator=<catboost.core.CatBoostClassifier object at 0x000002A4DCA491F0>,\n",
       "                   n_iter=20, n_jobs=-1,\n",
       "                   param_distributions={'depth': range(1, 15),\n",
       "                                        'iterations': range(100, 1000, 100),\n",
       "                                        'learning_rate': array([0.001, 0.011, 0.021, 0.031, 0.041, 0.051, 0.061, 0.071, 0.081,\n",
       "       0.091, 0.101, 0.111, 0.121, 0.131, 0.141, 0.151, 0.161, 0.171,\n",
       "       0.181, 0.191, 0.201, 0.211, 0.221, 0.231, 0.241, 0.251, 0.261,\n",
       "       0.271, 0.281, 0.291, 0.301, 0.311, 0.321, 0.331, 0.341, 0.351,\n",
       "       0.361, 0.371, 0.381, 0.391, 0.401, 0.411, 0.421, 0.431, 0.441,\n",
       "       0.451, 0.461, 0.471, 0.481, 0.491])},\n",
       "                   scoring='roc_auc')"
      ]
     },
     "execution_count": 122,
     "metadata": {},
     "output_type": "execute_result"
    }
   ],
   "source": [
    "%%time\n",
    "# tuning parameters\n",
    "\n",
    "# fixing random state\n",
    "random_state_value = 110\n",
    "\n",
    "# parameters\n",
    "rs_params = {\n",
    "    'iterations':range(100,1000,100),\n",
    "    'learning_rate':np.arange(0.001,0.5,0.01),\n",
    "    'depth': range(1, 15, 1) \n",
    "}\n",
    "# create RandomizedSearchCV\n",
    "cat = RandomizedSearchCV(\n",
    "    CatBoostClassifier(\n",
    "        random_state=random_state_value,\n",
    "        verbose=False),\n",
    "        rs_params,\n",
    "        scoring='roc_auc',\n",
    "        cv=5,\n",
    "        n_jobs=-1,        \n",
    "        n_iter=20)\n",
    "# train model\n",
    "cat.fit(X_train, y_train)"
   ]
  },
  {
   "cell_type": "code",
   "execution_count": 125,
   "id": "6ce150b2",
   "metadata": {},
   "outputs": [
    {
     "data": {
      "text/plain": [
       "{'learning_rate': 0.21099999999999997, 'iterations': 900, 'depth': 3}"
      ]
     },
     "execution_count": 125,
     "metadata": {},
     "output_type": "execute_result"
    }
   ],
   "source": [
    "cat.best_params_"
   ]
  },
  {
   "cell_type": "code",
   "execution_count": 157,
   "id": "c7c6cd7d",
   "metadata": {},
   "outputs": [
    {
     "name": "stdout",
     "output_type": "stream",
     "text": [
      "CatBoostClassifier: mean_cross_val_score = 0.927\n"
     ]
    },
    {
     "data": {
      "text/plain": [
       "<catboost.core.CatBoostClassifier at 0x2a4dce241c0>"
      ]
     },
     "execution_count": 157,
     "metadata": {},
     "output_type": "execute_result"
    }
   ],
   "source": [
    "cat = CatBoostClassifier(learning_rate=0.2,\n",
    "                            iterations=900,\n",
    "                            depth=3,\n",
    "                            verbose=False,\n",
    "                            random_state=12345)\n",
    "\n",
    "scores = cross_val_score(cat, X_train, y_train, cv=5, scoring='roc_auc')\n",
    "print(\"CatBoostClassifier: mean_cross_val_score = {:.3f}\".format(scores.mean()))\n",
    "\n",
    "cat.fit(X_train, y_train)"
   ]
  },
  {
   "cell_type": "code",
   "execution_count": 158,
   "id": "e6f7924a",
   "metadata": {},
   "outputs": [
    {
     "name": "stdout",
     "output_type": "stream",
     "text": [
      "Accuracy   = 0.89\n",
      "Recall     = 0.71\n",
      "Precission = 0.84\n",
      "F1         = 0.77\n",
      "AUC-ROC    = 0.93\n"
     ]
    },
    {
     "data": {
      "image/png": "[encoded data removed]",
      "text/plain": [
       "<Figure size 432x288 with 1 Axes>"
      ]
     },
     "metadata": {
      "needs_background": "light"
     },
     "output_type": "display_data"
    }
   ],
   "source": [
    "print('Accuracy   = {:.2f}'.format(accuracy_score(y_test, cat.predict(X_test))))\n",
    "print('Recall     = {:.2f}'.format(recall_score(y_test, cat.predict(X_test))))\n",
    "print('Precission = {:.2f}'.format(precision_score(y_test, cat.predict(X_test))))\n",
    "print('F1         = {:.2f}'.format(f1_score(y_test, cat.predict(X_test))))\n",
    "probabilities_valid = cat.predict_proba(X_test)\n",
    "probabilities_one_valid = probabilities_valid[:, 1]\n",
    "print('AUC-ROC    = {:.2f}'.format(roc_auc_score(y_test, probabilities_one_valid)))\n",
    "\n",
    "fpr, tpr, thresholds = roc_curve(y_test, probabilities_one_valid) \n",
    "plt.figure()\n",
    "plt.plot(fpr, tpr)\n",
    "plt.plot([0, 1], [0, 1], linestyle='--')\n",
    "plt.ylim([0.0, 1.0])\n",
    "plt.xlim([0.0, 1.0])\n",
    "plt.xlabel('False Positive Rate')\n",
    "plt.ylabel('True Positive Rate')\n",
    "plt.title('ROC-curve')\n",
    "plt.show()"
   ]
  },
  {
   "cell_type": "markdown",
   "id": "9033c29a",
   "metadata": {},
   "source": [
    "### Conclusion."
   ]
  },
  {
   "cell_type": "markdown",
   "id": "700b4fd3",
   "metadata": {},
   "source": [
    "We trained 4 models. The best result so far showed up CatBoostClassifier. So let's compare metrics for all models and choose the best one. "
   ]
  },
  {
   "cell_type": "markdown",
   "id": "7914059d",
   "metadata": {},
   "source": [
    "## Comparing the results of models."
   ]
  },
  {
   "cell_type": "code",
   "execution_count": 144,
   "id": "79129f0c",
   "metadata": {},
   "outputs": [],
   "source": [
    "d = {'LinearRegressionClassifier': [0.80, 0.55, 0.64, 0.59, 0.84], 'DecisionTreeClassifier': [0.80, 0.43, 0.69, 0.53, 0.83], \n",
    "     'RandomForestClassifier': [0.81, 0.52, 0.70, 0.60, 0.86], 'CatBoostClassifier': [0.89, 0.71, 0.85, 0.77, 0.93]}"
   ]
  },
  {
   "cell_type": "code",
   "execution_count": 146,
   "id": "98a3b49b",
   "metadata": {},
   "outputs": [
    {
     "data": {
      "text/html": [
       "<style type=\"text/css\">\n",
       "#T_f66ef_row0_col3, #T_f66ef_row1_col3, #T_f66ef_row2_col3, #T_f66ef_row3_col3, #T_f66ef_row4_col3 {\n",
       "  background-color: lightgreen;\n",
       "}\n",
       "</style>\n",
       "<table id=\"T_f66ef_\">\n",
       "  <thead>\n",
       "    <tr>\n",
       "      <th class=\"blank level0\" >&nbsp;</th>\n",
       "      <th class=\"col_heading level0 col0\" >LinearRegressionClassifier</th>\n",
       "      <th class=\"col_heading level0 col1\" >DecisionTreeClassifier</th>\n",
       "      <th class=\"col_heading level0 col2\" >RandomForestClassifier</th>\n",
       "      <th class=\"col_heading level0 col3\" >CatBoostClassifier</th>\n",
       "    </tr>\n",
       "  </thead>\n",
       "  <tbody>\n",
       "    <tr>\n",
       "      <th id=\"T_f66ef_level0_row0\" class=\"row_heading level0 row0\" >Accuracy</th>\n",
       "      <td id=\"T_f66ef_row0_col0\" class=\"data row0 col0\" >0.800000</td>\n",
       "      <td id=\"T_f66ef_row0_col1\" class=\"data row0 col1\" >0.800000</td>\n",
       "      <td id=\"T_f66ef_row0_col2\" class=\"data row0 col2\" >0.810000</td>\n",
       "      <td id=\"T_f66ef_row0_col3\" class=\"data row0 col3\" >0.890000</td>\n",
       "    </tr>\n",
       "    <tr>\n",
       "      <th id=\"T_f66ef_level0_row1\" class=\"row_heading level0 row1\" >Recall</th>\n",
       "      <td id=\"T_f66ef_row1_col0\" class=\"data row1 col0\" >0.550000</td>\n",
       "      <td id=\"T_f66ef_row1_col1\" class=\"data row1 col1\" >0.430000</td>\n",
       "      <td id=\"T_f66ef_row1_col2\" class=\"data row1 col2\" >0.520000</td>\n",
       "      <td id=\"T_f66ef_row1_col3\" class=\"data row1 col3\" >0.710000</td>\n",
       "    </tr>\n",
       "    <tr>\n",
       "      <th id=\"T_f66ef_level0_row2\" class=\"row_heading level0 row2\" >Precission</th>\n",
       "      <td id=\"T_f66ef_row2_col0\" class=\"data row2 col0\" >0.640000</td>\n",
       "      <td id=\"T_f66ef_row2_col1\" class=\"data row2 col1\" >0.690000</td>\n",
       "      <td id=\"T_f66ef_row2_col2\" class=\"data row2 col2\" >0.700000</td>\n",
       "      <td id=\"T_f66ef_row2_col3\" class=\"data row2 col3\" >0.850000</td>\n",
       "    </tr>\n",
       "    <tr>\n",
       "      <th id=\"T_f66ef_level0_row3\" class=\"row_heading level0 row3\" >F1</th>\n",
       "      <td id=\"T_f66ef_row3_col0\" class=\"data row3 col0\" >0.590000</td>\n",
       "      <td id=\"T_f66ef_row3_col1\" class=\"data row3 col1\" >0.530000</td>\n",
       "      <td id=\"T_f66ef_row3_col2\" class=\"data row3 col2\" >0.600000</td>\n",
       "      <td id=\"T_f66ef_row3_col3\" class=\"data row3 col3\" >0.770000</td>\n",
       "    </tr>\n",
       "    <tr>\n",
       "      <th id=\"T_f66ef_level0_row4\" class=\"row_heading level0 row4\" >AUC-ROC</th>\n",
       "      <td id=\"T_f66ef_row4_col0\" class=\"data row4 col0\" >0.840000</td>\n",
       "      <td id=\"T_f66ef_row4_col1\" class=\"data row4 col1\" >0.830000</td>\n",
       "      <td id=\"T_f66ef_row4_col2\" class=\"data row4 col2\" >0.860000</td>\n",
       "      <td id=\"T_f66ef_row4_col3\" class=\"data row4 col3\" >0.930000</td>\n",
       "    </tr>\n",
       "  </tbody>\n",
       "</table>\n"
      ],
      "text/plain": [
       "<pandas.io.formats.style.Styler at 0x2a4dd6ddfa0>"
      ]
     },
     "execution_count": 146,
     "metadata": {},
     "output_type": "execute_result"
    }
   ],
   "source": [
    "result = pd.DataFrame(data=d, index=['Accuracy', 'Recall', 'Precission', 'F1', 'AUC-ROC'])\n",
    "result.style.highlight_max(color = 'lightgreen', axis = 1)"
   ]
  },
  {
   "cell_type": "markdown",
   "id": "757730e2",
   "metadata": {},
   "source": [
    "As we can see the best results gave us CatBoosClassifier model. The main metrics for our investigation Accuracy - 0.89 and AUC-ROC - 0.93, which is a very good result. "
   ]
  },
  {
   "cell_type": "markdown",
   "id": "fb325291",
   "metadata": {},
   "source": [
    "The best model has hyperparameters are: 'learning_rate': 0.21099999999999997, 'iterations': 900, 'depth': 3. Let's check it on the test set."
   ]
  },
  {
   "cell_type": "code",
   "execution_count": 161,
   "id": "4e130624",
   "metadata": {},
   "outputs": [],
   "source": [
    "cat_probs = cat.predict_proba(X_test)\n",
    "cat_probs = cat_probs[:, 1]"
   ]
  },
  {
   "cell_type": "code",
   "execution_count": 162,
   "id": "94a33af5",
   "metadata": {},
   "outputs": [
    {
     "name": "stdout",
     "output_type": "stream",
     "text": [
      "CatBoostClassifier test ROC-AUC: 0.929\n"
     ]
    }
   ],
   "source": [
    "print(\"CatBoostClassifier test ROC-AUC: {:.3f}\".format(\n",
    "    roc_auc_score(y_test, cat_probs)))"
   ]
  },
  {
   "cell_type": "code",
   "execution_count": 164,
   "id": "d6d0c31b",
   "metadata": {},
   "outputs": [
    {
     "name": "stdout",
     "output_type": "stream",
     "text": [
      "              precision    recall  f1-score   support\n",
      "\n",
      "           0      0.900     0.951     0.925      1294\n",
      "           1      0.838     0.709     0.768       467\n",
      "\n",
      "    accuracy                          0.886      1761\n",
      "   macro avg      0.869     0.830     0.846      1761\n",
      "weighted avg      0.884     0.886     0.883      1761\n",
      "\n"
     ]
    }
   ],
   "source": [
    "cat_predicted = cat.predict(X_test)\n",
    "print(classification_report(y_test, cat_predicted, digits=3))"
   ]
  },
  {
   "cell_type": "markdown",
   "id": "e7dc5653",
   "metadata": {},
   "source": [
    "The AUC-ROC metric remains on a good level: 0.929"
   ]
  },
  {
   "cell_type": "markdown",
   "id": "4b1a0b43",
   "metadata": {},
   "source": [
    "##  Importance of features for the best model."
   ]
  },
  {
   "cell_type": "markdown",
   "id": "6fd4b549",
   "metadata": {},
   "source": [
    "Let's check which features the most important for our model."
   ]
  },
  {
   "cell_type": "code",
   "execution_count": 165,
   "id": "375deaff",
   "metadata": {},
   "outputs": [],
   "source": [
    "df_cat_features = pd.DataFrame({'features': cat.feature_names_, 'score': cat.get_feature_importance()})\n",
    "df_cat_features = df_cat_features.sort_values(by=\"score\", ascending = False)"
   ]
  },
  {
   "cell_type": "code",
   "execution_count": 166,
   "id": "34db2c42",
   "metadata": {},
   "outputs": [
    {
     "data": {
      "text/html": [
       "<div>\n",
       "<style scoped>\n",
       "    .dataframe tbody tr th:only-of-type {\n",
       "        vertical-align: middle;\n",
       "    }\n",
       "\n",
       "    .dataframe tbody tr th {\n",
       "        vertical-align: top;\n",
       "    }\n",
       "\n",
       "    .dataframe thead th {\n",
       "        text-align: right;\n",
       "    }\n",
       "</style>\n",
       "<table border=\"1\" class=\"dataframe\">\n",
       "  <thead>\n",
       "    <tr style=\"text-align: right;\">\n",
       "      <th></th>\n",
       "      <th>features</th>\n",
       "      <th>score</th>\n",
       "    </tr>\n",
       "  </thead>\n",
       "  <tbody>\n",
       "    <tr>\n",
       "      <th>16</th>\n",
       "      <td>Duration</td>\n",
       "      <td>65.333104</td>\n",
       "    </tr>\n",
       "    <tr>\n",
       "      <th>3</th>\n",
       "      <td>MonthlyCharges</td>\n",
       "      <td>12.943705</td>\n",
       "    </tr>\n",
       "    <tr>\n",
       "      <th>0</th>\n",
       "      <td>Type</td>\n",
       "      <td>6.805082</td>\n",
       "    </tr>\n",
       "    <tr>\n",
       "      <th>17</th>\n",
       "      <td>Services</td>\n",
       "      <td>2.572592</td>\n",
       "    </tr>\n",
       "    <tr>\n",
       "      <th>2</th>\n",
       "      <td>PaymentMethod</td>\n",
       "      <td>2.162326</td>\n",
       "    </tr>\n",
       "  </tbody>\n",
       "</table>\n",
       "</div>"
      ],
      "text/plain": [
       "          features      score\n",
       "16        Duration  65.333104\n",
       "3   MonthlyCharges  12.943705\n",
       "0             Type   6.805082\n",
       "17        Services   2.572592\n",
       "2    PaymentMethod   2.162326"
      ]
     },
     "execution_count": 166,
     "metadata": {},
     "output_type": "execute_result"
    }
   ],
   "source": [
    "df_cat_features.head()"
   ]
  },
  {
   "cell_type": "code",
   "execution_count": 167,
   "id": "77921efa",
   "metadata": {},
   "outputs": [
    {
     "data": {
      "image/png": "[encoded data removed]",
      "text/plain": [
       "<Figure size 864x648 with 1 Axes>"
      ]
     },
     "metadata": {
      "needs_background": "light"
     },
     "output_type": "display_data"
    }
   ],
   "source": [
    "fig, ax = plt.subplots(figsize=(12, 9))\n",
    "sns.barplot(ax=ax, x=df_cat_features[\"score\"], y=df_cat_features[\"features\"])\n",
    "plt.show()"
   ]
  },
  {
   "cell_type": "markdown",
   "id": "dd7c3ee7",
   "metadata": {},
   "source": [
    "The most important feature is *Duration* then follow such features as *MonthlyCharges*, *Type*, *Services* and *PaymentMethod*. "
   ]
  },
  {
   "cell_type": "markdown",
   "id": "8706040d",
   "metadata": {},
   "source": [
    "# Overall Conclusion"
   ]
  },
  {
   "cell_type": "markdown",
   "id": "03bba787",
   "metadata": {},
   "source": [
    "We have 4 datasets. After loading them on the first look they didn't have missing values but preprocessing was needed since we was needed to merge them all. After investigating the data and merging tables a missing values appeared in phone and internet services. All of them were replaced by \"No internet\" and \"No phone\" since obviously not all users use those services. In the TotalCharges column were found 11 users who just signed up their contracts and haven't paid yet, spaces were replaced by 0. Columns 'gender' was renamed as 'Gender' so it won't differ from others. Column 'BeginDate' was converted to datetime format while downloading the dataset, but column 'EndDate' was object type, because there are dates only for client who exited. So this column was converted to the datetime format with NaT values for customers who still in company. \n",
    "\n",
    "**After EDA we can make such conclusions:**\n",
    "\n",
    " **1.** According to contract, billing and payment method data the category of churn customers mostly use Month-to-Month plan, paperless billings and electronic check payment method.\n",
    " \n",
    " **2.** Comparing the terminated and non-terminated contracts, we can see that in the terminated contracts the average monthly payment was higher, while the payment for the entire time was lower.\n",
    " \n",
    " **3.** There is no big difference between loyal and churn customers according to gender. \n",
    " \n",
    " **4.** The number of people of retirement age is significantly less than the younger generation, but the outflow of older people is almost 2 times more than for young people.\n",
    " \n",
    " **5.** People who do not have a partner are more likely to terminate the contract.\n",
    " \n",
    " **6.** People without dependents are also prone to leaving.\n",
    " \n",
    " **7.** On the charts we see that among loyal customers there is a significant proportion of those who use only one service, primarily the Internet, among the departed customers the vast majority used all services. Considering individual services, we can say that users of several lines are less satisfied compared to one, and DSL compared to fiber.\n",
    " \n",
    "**8.** On the charts, we see that contracts were actively concluded in 2014, then there was a decline with a gradual increase by 2020. But there are only 4 dates of termination of contracts, and all of them are only in 2019 and 2020. In this case, the reason may be that the data is artificial, but on real data it would be necessary first of all to check what happened on these dates. When considering the schedules of the duration of contracts, we can see that most of the contracts are terminated a short time after the conclusion, and old customers leave less often.\n",
    "\n",
    "**9.** The strongest correlation with outflow is the number of days since the signing up the contract - it correlates negatively - the more days, the less likely it is to leave.The number of days and total costs are also strongly correlated with each other, which is quite logical, and the monthly payment with total costs.The remaining signs do not have a strong correlation with the outflow of customers.\n",
    "\n",
    "We successfuly made a feature ingineering. We made encoding and scaling of the dataset and splitted it to the train and test sets. So now we can start to build our models.\n",
    "\n",
    "We trained 6 models: \n",
    " - Logistic Regression Classifier\n",
    " - DecisionTreeClassifier\n",
    " - Random Forest Classifier\n",
    " - CatBoostClassifier\n",
    " \n",
    " The best result gave us CatBoostClassifier with **Accuracy - 0.89** and **AUC-ROC - 0.93** with hyperparameters **Depth - 3**, **Learning rate - 0.21** and **Iterations - 900**. We trained it on the test set and **AUC-ROC** metric remains on the same level **0.929**. \n",
    " \n",
    " After checking feature importances we can conclude that the best results of our metrics gave us first 5 more important features: *Duration*, *MonthlyCharges*, *Type*, *Services* and *PaymentMethod*. \n",
    " \n",
    " Overall I think the goal of project was achieved successfully."
   ]
  },
  {
   "cell_type": "markdown",
   "id": "63aaee4a",
   "metadata": {},
   "source": [
    "# Report"
   ]
  },
  {
   "cell_type": "markdown",
   "id": "c65db982",
   "metadata": {},
   "source": [
    "**What steps of the plan were performed and what steps were skipped (explain why)?**\n",
    "\n",
    "I succeded to perfrom all steps I planed."
   ]
  },
  {
   "cell_type": "markdown",
   "id": "46dddf24",
   "metadata": {},
   "source": [
    "**What difficulties did you encounter and how did you manage to solve them?**\n",
    "\n",
    "I've had a difficulty with building models. Actually firstly I didn't build them correct, cause didn't use cross validation. But after reviewers comment I studied this question more deeply and changed the hold code for models. Results achived are even better than were. "
   ]
  },
  {
   "cell_type": "markdown",
   "id": "9aab509f",
   "metadata": {},
   "source": [
    "**What were some of the key steps to solving the task?**\n",
    "\n",
    "Actually the key steps were: \n",
    "\n",
    " **1. Data preprocessing.** \n",
    "     \n",
    "   It is very important to preprocess data well and correct. From this depend further results.\n",
    "     \n",
    "     \n",
    " **2. EDA.** \n",
    " \n",
    "   Very important to understand the data. Connections and correlation between features and target.\n",
    "     \n",
    "    \n",
    " **3. Model building.**\n",
    " \n",
    "   Important to build model correct according to the data we have, counting all special parameters.\n",
    "    \n",
    "    \n",
    " **4. Model testing.**\n",
    " \n",
    "   And final step is to see the performance of the best model on our test set. \n",
    "    \n"
   ]
  },
  {
   "cell_type": "markdown",
   "id": "818077d1",
   "metadata": {},
   "source": [
    "**What is your final model and what quality score does it have?**\n",
    "\n",
    "The final model I have is THE catBoostClassifier. It showed up the best results: **Accuracy - 0.89** and **AUC-ROC - 0.93**."
   ]
  },
  {
   "cell_type": "code",
   "execution_count": null,
   "id": "3953edb7",
   "metadata": {},
   "outputs": [],
   "source": []
  }
 ],
 "metadata": {
  "ExecuteTimeLog": [
   {
    "duration": 145,
    "start_time": "2022-07-29T08:26:23.299Z"
   },
   {
    "duration": 1744,
    "start_time": "2022-07-29T08:26:35.537Z"
   },
   {
    "duration": 226,
    "start_time": "2022-07-29T08:26:37.284Z"
   },
   {
    "duration": 0,
    "start_time": "2022-07-29T08:26:37.516Z"
   },
   {
    "duration": 0,
    "start_time": "2022-07-29T08:26:37.524Z"
   },
   {
    "duration": 0,
    "start_time": "2022-07-29T08:26:37.525Z"
   },
   {
    "duration": 0,
    "start_time": "2022-07-29T08:26:37.526Z"
   },
   {
    "duration": 0,
    "start_time": "2022-07-29T08:26:37.526Z"
   },
   {
    "duration": 0,
    "start_time": "2022-07-29T08:26:37.527Z"
   },
   {
    "duration": 0,
    "start_time": "2022-07-29T08:26:37.532Z"
   },
   {
    "duration": 0,
    "start_time": "2022-07-29T08:26:37.532Z"
   },
   {
    "duration": 0,
    "start_time": "2022-07-29T08:26:37.533Z"
   },
   {
    "duration": 0,
    "start_time": "2022-07-29T08:26:37.534Z"
   },
   {
    "duration": 0,
    "start_time": "2022-07-29T08:26:37.535Z"
   },
   {
    "duration": 0,
    "start_time": "2022-07-29T08:26:37.536Z"
   },
   {
    "duration": 0,
    "start_time": "2022-07-29T08:26:37.538Z"
   },
   {
    "duration": 0,
    "start_time": "2022-07-29T08:26:37.539Z"
   },
   {
    "duration": 0,
    "start_time": "2022-07-29T08:26:37.541Z"
   },
   {
    "duration": 0,
    "start_time": "2022-07-29T08:26:37.547Z"
   },
   {
    "duration": 0,
    "start_time": "2022-07-29T08:26:37.549Z"
   },
   {
    "duration": 0,
    "start_time": "2022-07-29T08:26:37.550Z"
   },
   {
    "duration": 0,
    "start_time": "2022-07-29T08:26:37.551Z"
   },
   {
    "duration": 0,
    "start_time": "2022-07-29T08:26:37.555Z"
   },
   {
    "duration": 0,
    "start_time": "2022-07-29T08:26:37.560Z"
   },
   {
    "duration": 0,
    "start_time": "2022-07-29T08:26:37.563Z"
   },
   {
    "duration": 0,
    "start_time": "2022-07-29T08:26:37.564Z"
   },
   {
    "duration": 0,
    "start_time": "2022-07-29T08:26:37.565Z"
   },
   {
    "duration": 0,
    "start_time": "2022-07-29T08:26:37.567Z"
   },
   {
    "duration": 0,
    "start_time": "2022-07-29T08:26:37.569Z"
   },
   {
    "duration": 0,
    "start_time": "2022-07-29T08:26:37.570Z"
   },
   {
    "duration": 0,
    "start_time": "2022-07-29T08:26:37.572Z"
   },
   {
    "duration": 0,
    "start_time": "2022-07-29T08:26:37.573Z"
   },
   {
    "duration": 0,
    "start_time": "2022-07-29T08:26:37.574Z"
   },
   {
    "duration": 0,
    "start_time": "2022-07-29T08:26:37.575Z"
   },
   {
    "duration": 0,
    "start_time": "2022-07-29T08:26:37.577Z"
   },
   {
    "duration": 0,
    "start_time": "2022-07-29T08:26:37.579Z"
   },
   {
    "duration": 0,
    "start_time": "2022-07-29T08:26:37.580Z"
   },
   {
    "duration": 0,
    "start_time": "2022-07-29T08:26:37.581Z"
   },
   {
    "duration": 0,
    "start_time": "2022-07-29T08:26:37.583Z"
   },
   {
    "duration": 0,
    "start_time": "2022-07-29T08:26:37.627Z"
   },
   {
    "duration": 0,
    "start_time": "2022-07-29T08:26:37.628Z"
   },
   {
    "duration": 0,
    "start_time": "2022-07-29T08:26:37.630Z"
   },
   {
    "duration": 0,
    "start_time": "2022-07-29T08:26:37.632Z"
   },
   {
    "duration": 0,
    "start_time": "2022-07-29T08:26:37.633Z"
   },
   {
    "duration": 0,
    "start_time": "2022-07-29T08:26:37.634Z"
   },
   {
    "duration": 0,
    "start_time": "2022-07-29T08:26:37.635Z"
   },
   {
    "duration": 0,
    "start_time": "2022-07-29T08:26:37.637Z"
   },
   {
    "duration": 0,
    "start_time": "2022-07-29T08:26:37.638Z"
   },
   {
    "duration": 0,
    "start_time": "2022-07-29T08:26:37.639Z"
   },
   {
    "duration": 0,
    "start_time": "2022-07-29T08:26:37.643Z"
   },
   {
    "duration": 0,
    "start_time": "2022-07-29T08:26:37.644Z"
   },
   {
    "duration": 0,
    "start_time": "2022-07-29T08:26:37.645Z"
   },
   {
    "duration": 0,
    "start_time": "2022-07-29T08:26:37.645Z"
   },
   {
    "duration": 0,
    "start_time": "2022-07-29T08:26:37.646Z"
   },
   {
    "duration": 0,
    "start_time": "2022-07-29T08:26:37.649Z"
   },
   {
    "duration": 0,
    "start_time": "2022-07-29T08:26:37.650Z"
   },
   {
    "duration": 0,
    "start_time": "2022-07-29T08:26:37.653Z"
   },
   {
    "duration": 0,
    "start_time": "2022-07-29T08:26:37.654Z"
   },
   {
    "duration": 0,
    "start_time": "2022-07-29T08:26:37.655Z"
   },
   {
    "duration": 0,
    "start_time": "2022-07-29T08:26:37.657Z"
   },
   {
    "duration": 0,
    "start_time": "2022-07-29T08:26:37.658Z"
   },
   {
    "duration": 0,
    "start_time": "2022-07-29T08:26:37.660Z"
   },
   {
    "duration": 0,
    "start_time": "2022-07-29T08:26:37.662Z"
   },
   {
    "duration": 0,
    "start_time": "2022-07-29T08:26:37.663Z"
   },
   {
    "duration": 0,
    "start_time": "2022-07-29T08:26:37.664Z"
   },
   {
    "duration": 0,
    "start_time": "2022-07-29T08:26:37.666Z"
   },
   {
    "duration": 0,
    "start_time": "2022-07-29T08:26:37.667Z"
   },
   {
    "duration": 0,
    "start_time": "2022-07-29T08:26:37.669Z"
   },
   {
    "duration": 0,
    "start_time": "2022-07-29T08:26:37.725Z"
   },
   {
    "duration": 0,
    "start_time": "2022-07-29T08:26:37.728Z"
   },
   {
    "duration": 0,
    "start_time": "2022-07-29T08:26:37.729Z"
   },
   {
    "duration": 0,
    "start_time": "2022-07-29T08:26:37.729Z"
   },
   {
    "duration": 0,
    "start_time": "2022-07-29T08:26:37.730Z"
   },
   {
    "duration": 0,
    "start_time": "2022-07-29T08:26:37.734Z"
   },
   {
    "duration": 0,
    "start_time": "2022-07-29T08:26:37.736Z"
   },
   {
    "duration": 1640,
    "start_time": "2022-07-29T08:31:44.479Z"
   },
   {
    "duration": 244,
    "start_time": "2022-07-29T08:31:46.125Z"
   },
   {
    "duration": 0,
    "start_time": "2022-07-29T08:31:46.373Z"
   },
   {
    "duration": 0,
    "start_time": "2022-07-29T08:31:46.374Z"
   },
   {
    "duration": 0,
    "start_time": "2022-07-29T08:31:46.375Z"
   },
   {
    "duration": 0,
    "start_time": "2022-07-29T08:31:46.377Z"
   },
   {
    "duration": 0,
    "start_time": "2022-07-29T08:31:46.377Z"
   },
   {
    "duration": 0,
    "start_time": "2022-07-29T08:31:46.378Z"
   },
   {
    "duration": 0,
    "start_time": "2022-07-29T08:31:46.380Z"
   },
   {
    "duration": 0,
    "start_time": "2022-07-29T08:31:46.380Z"
   },
   {
    "duration": 0,
    "start_time": "2022-07-29T08:31:46.381Z"
   },
   {
    "duration": 0,
    "start_time": "2022-07-29T08:31:46.382Z"
   },
   {
    "duration": 0,
    "start_time": "2022-07-29T08:31:46.383Z"
   },
   {
    "duration": 0,
    "start_time": "2022-07-29T08:31:46.384Z"
   },
   {
    "duration": 0,
    "start_time": "2022-07-29T08:31:46.385Z"
   },
   {
    "duration": 0,
    "start_time": "2022-07-29T08:31:46.386Z"
   },
   {
    "duration": 0,
    "start_time": "2022-07-29T08:31:46.387Z"
   },
   {
    "duration": 0,
    "start_time": "2022-07-29T08:31:46.388Z"
   },
   {
    "duration": 0,
    "start_time": "2022-07-29T08:31:46.389Z"
   },
   {
    "duration": 0,
    "start_time": "2022-07-29T08:31:46.429Z"
   },
   {
    "duration": 0,
    "start_time": "2022-07-29T08:31:46.430Z"
   },
   {
    "duration": 0,
    "start_time": "2022-07-29T08:31:46.431Z"
   },
   {
    "duration": 0,
    "start_time": "2022-07-29T08:31:46.432Z"
   },
   {
    "duration": 0,
    "start_time": "2022-07-29T08:31:46.433Z"
   },
   {
    "duration": 0,
    "start_time": "2022-07-29T08:31:46.433Z"
   },
   {
    "duration": 0,
    "start_time": "2022-07-29T08:31:46.435Z"
   },
   {
    "duration": 0,
    "start_time": "2022-07-29T08:31:46.438Z"
   },
   {
    "duration": 0,
    "start_time": "2022-07-29T08:31:46.438Z"
   },
   {
    "duration": 0,
    "start_time": "2022-07-29T08:31:46.439Z"
   },
   {
    "duration": 0,
    "start_time": "2022-07-29T08:31:46.440Z"
   },
   {
    "duration": 0,
    "start_time": "2022-07-29T08:31:46.440Z"
   },
   {
    "duration": 0,
    "start_time": "2022-07-29T08:31:46.441Z"
   },
   {
    "duration": 0,
    "start_time": "2022-07-29T08:31:46.443Z"
   },
   {
    "duration": 0,
    "start_time": "2022-07-29T08:31:46.444Z"
   },
   {
    "duration": 0,
    "start_time": "2022-07-29T08:31:46.445Z"
   },
   {
    "duration": 0,
    "start_time": "2022-07-29T08:31:46.445Z"
   },
   {
    "duration": 0,
    "start_time": "2022-07-29T08:31:46.446Z"
   },
   {
    "duration": 0,
    "start_time": "2022-07-29T08:31:46.446Z"
   },
   {
    "duration": 0,
    "start_time": "2022-07-29T08:31:46.447Z"
   },
   {
    "duration": 0,
    "start_time": "2022-07-29T08:31:46.448Z"
   },
   {
    "duration": 0,
    "start_time": "2022-07-29T08:31:46.448Z"
   },
   {
    "duration": 0,
    "start_time": "2022-07-29T08:31:46.449Z"
   },
   {
    "duration": 0,
    "start_time": "2022-07-29T08:31:46.449Z"
   },
   {
    "duration": 0,
    "start_time": "2022-07-29T08:31:46.450Z"
   },
   {
    "duration": 0,
    "start_time": "2022-07-29T08:31:46.451Z"
   },
   {
    "duration": 0,
    "start_time": "2022-07-29T08:31:46.453Z"
   },
   {
    "duration": 0,
    "start_time": "2022-07-29T08:31:46.454Z"
   },
   {
    "duration": 0,
    "start_time": "2022-07-29T08:31:46.457Z"
   },
   {
    "duration": 0,
    "start_time": "2022-07-29T08:31:46.458Z"
   },
   {
    "duration": 0,
    "start_time": "2022-07-29T08:31:46.459Z"
   },
   {
    "duration": 0,
    "start_time": "2022-07-29T08:31:46.460Z"
   },
   {
    "duration": 0,
    "start_time": "2022-07-29T08:31:46.461Z"
   },
   {
    "duration": 0,
    "start_time": "2022-07-29T08:31:46.462Z"
   },
   {
    "duration": 0,
    "start_time": "2022-07-29T08:31:46.467Z"
   },
   {
    "duration": 0,
    "start_time": "2022-07-29T08:31:46.469Z"
   },
   {
    "duration": 0,
    "start_time": "2022-07-29T08:31:46.470Z"
   },
   {
    "duration": 0,
    "start_time": "2022-07-29T08:31:46.471Z"
   },
   {
    "duration": 0,
    "start_time": "2022-07-29T08:31:46.472Z"
   },
   {
    "duration": 0,
    "start_time": "2022-07-29T08:31:46.473Z"
   },
   {
    "duration": 0,
    "start_time": "2022-07-29T08:31:46.474Z"
   },
   {
    "duration": 0,
    "start_time": "2022-07-29T08:31:46.527Z"
   },
   {
    "duration": 0,
    "start_time": "2022-07-29T08:31:46.527Z"
   },
   {
    "duration": 0,
    "start_time": "2022-07-29T08:31:46.528Z"
   },
   {
    "duration": 0,
    "start_time": "2022-07-29T08:31:46.531Z"
   },
   {
    "duration": 0,
    "start_time": "2022-07-29T08:31:46.532Z"
   },
   {
    "duration": 0,
    "start_time": "2022-07-29T08:31:46.533Z"
   },
   {
    "duration": 0,
    "start_time": "2022-07-29T08:31:46.535Z"
   },
   {
    "duration": 0,
    "start_time": "2022-07-29T08:31:46.536Z"
   },
   {
    "duration": 0,
    "start_time": "2022-07-29T08:31:46.537Z"
   },
   {
    "duration": 0,
    "start_time": "2022-07-29T08:31:46.538Z"
   },
   {
    "duration": 0,
    "start_time": "2022-07-29T08:31:46.543Z"
   },
   {
    "duration": 0,
    "start_time": "2022-07-29T08:31:46.544Z"
   },
   {
    "duration": 0,
    "start_time": "2022-07-29T08:31:46.545Z"
   },
   {
    "duration": 0,
    "start_time": "2022-07-29T08:31:46.546Z"
   }
  ],
  "kernelspec": {
   "display_name": "Python 3 (ipykernel)",
   "language": "python",
   "name": "python3"
  },
  "language_info": {
   "codemirror_mode": {
    "name": "ipython",
    "version": 3
   },
   "file_extension": ".py",
   "mimetype": "text/x-python",
   "name": "python",
   "nbconvert_exporter": "python",
   "pygments_lexer": "ipython3",
   "version": "3.9.7"
  },
  "toc": {
   "base_numbering": 1,
   "nav_menu": {},
   "number_sections": true,
   "sideBar": true,
   "skip_h1_title": true,
   "title_cell": "Table of Contents",
   "title_sidebar": "Contents",
   "toc_cell": false,
   "toc_position": {},
   "toc_section_display": true,
   "toc_window_display": false
  }
 },
 "nbformat": 4,
 "nbformat_minor": 5
}
